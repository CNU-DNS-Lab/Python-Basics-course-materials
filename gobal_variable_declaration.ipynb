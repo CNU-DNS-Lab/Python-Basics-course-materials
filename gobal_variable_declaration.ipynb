{
  "nbformat": 4,
  "nbformat_minor": 0,
  "metadata": {
    "colab": {
      "provenance": [],
      "toc_visible": true,
      "authorship_tag": "ABX9TyNO7r5u+O+mIU3Bxn5RqpuS"
    },
    "kernelspec": {
      "name": "python3",
      "display_name": "Python 3"
    },
    "language_info": {
      "name": "python"
    }
  },
  "cells": [
    {
      "cell_type": "code",
      "execution_count": 2,
      "metadata": {
        "colab": {
          "base_uri": "https://localhost:8080/"
        },
        "id": "nAAcq7aKLeJT",
        "outputId": "49367437-a2ba-4269-a5be-f8d6105d7a65"
      },
      "outputs": [
        {
          "output_type": "stream",
          "name": "stdout",
          "text": [
            "Python is fantastic\n",
            "Python is awesome\n",
            "Python is awesome\n"
          ]
        }
      ],
      "source": [
        "x = \"awesome\"\n",
        "\n",
        "def main():\n",
        "  x = \"fantastic\"\n",
        "  print(\"Python is \" + x)   # uses x value from x inside main\n",
        "  get_name()\n",
        "\n",
        "def get_name():\n",
        "  print(\"Python is \" + x)   # uses x value from outside main\n",
        "\n",
        "main()\n",
        "\n",
        "print(\"Python is \" + x)     # uses x value from outside main"
      ]
    },
    {
      "cell_type": "code",
      "source": [
        "x = \"awesome\"\n",
        "\n",
        "def main():\n",
        "  global x\n",
        "  x = \"fantastic\"\n",
        "  print(\"Python is \" + x)   # uses x value from inside main\n",
        "  get_name()\n",
        "\n",
        "def get_name():\n",
        "  print(\"Python is \" + x)   # uses x value from inside main because we used global keyword\n",
        "\n",
        "main()\n",
        "\n",
        "print(\"Python is \" + x)     # uses x value from inside main because we used global keyword"
      ],
      "metadata": {
        "colab": {
          "base_uri": "https://localhost:8080/"
        },
        "id": "EoyKpj5mLmQj",
        "outputId": "896664dc-7f3f-4f59-ffa2-a1c3c382dd46"
      },
      "execution_count": 3,
      "outputs": [
        {
          "output_type": "stream",
          "name": "stdout",
          "text": [
            "Python is fantastic\n",
            "Python is fantastic\n",
            "Python is fantastic\n"
          ]
        }
      ]
    }
  ]
}