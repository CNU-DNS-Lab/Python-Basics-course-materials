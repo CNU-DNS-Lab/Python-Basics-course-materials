{
  "nbformat": 4,
  "nbformat_minor": 0,
  "metadata": {
    "colab": {
      "provenance": [],
      "authorship_tag": "ABX9TyOkPC7+oQzJ3ub3ZwYdXD7D"
    },
    "kernelspec": {
      "name": "python3",
      "display_name": "Python 3"
    },
    "language_info": {
      "name": "python"
    }
  },
  "cells": [
    {
      "cell_type": "markdown",
      "source": [
        "First install pandas library as follows:"
      ],
      "metadata": {
        "id": "sPCQm4Fu2G7y"
      }
    },
    {
      "cell_type": "code",
      "execution_count": null,
      "metadata": {
        "id": "MVSsuK8u2E9W"
      },
      "outputs": [],
      "source": [
        "pip install pandas"
      ]
    },
    {
      "cell_type": "markdown",
      "source": [
        "**Example 1: Visualize the excel file data with pandas library**"
      ],
      "metadata": {
        "id": "J_hnupFN4p8x"
      }
    },
    {
      "cell_type": "code",
      "source": [
        "import pandas as pd\n",
        "\n",
        "file_path = 'example_data.xlsx'\n",
        "\n",
        "df = pd.read_excel(file_path)\n",
        "print(df)"
      ],
      "metadata": {
        "colab": {
          "base_uri": "https://localhost:8080/"
        },
        "id": "voEOWgZC2WYK",
        "outputId": "fb7da8c4-e737-40ee-9bc8-0a1044018efb"
      },
      "execution_count": 26,
      "outputs": [
        {
          "output_type": "stream",
          "name": "stdout",
          "text": [
            "                                            Food Item Measure  Calories  \\\n",
            "0   Carrot, homemade with cream cheese icing (2 la...    1/12       542   \n",
            "1            Cereal bar, fruit filled (Nutri-GrainTM)       1       135   \n",
            "2                 Cheesecake, commercial (15 cm diam)     1/6       321   \n",
            "3      Cheesecake, from mix, no-bake type (20cm diam)     1/8       407   \n",
            "4   Cheesecake, plain, homemade with cherry toppin...     1/8       459   \n",
            "5             Cherry, commercial, 2 crust (23cm diam)     1/8       325   \n",
            "6                          Chocolate chip, commercial       2        98   \n",
            "7                            Chocolate chip, homemade       2       156   \n",
            "8           Chocolate chip, refrigerated dough, baked       2       118   \n",
            "9                        Chocolate coated marshmallow       2       129   \n",
            "10            Chocolate cream, commercial (20cm diam)     1/6       344   \n",
            "11                                 Chocolate sandwich       2        93   \n",
            "12        Chocolate, from mix, with icing (23cm diam)    1/12       362   \n",
            "13  Chocolate, frozen, commercial, with chocolate ...     1/6       282   \n",
            "14  Chocolate, homemade, with icing (2 layer, 23cm...    1/12       408   \n",
            "15              Coconut cream, commercial (20cm diam)     1/6       191   \n",
            "16                        Coconut macaroons, homemade       2       194   \n",
            "17  Coffee cake, cinnamon with crumb topping, comm...    1/10       237   \n",
            "18  Coffee cake, cinnamon with crumb topping, from...    1/10       142   \n",
            "19                                  Croissant, butter       1       231   \n",
            "\n",
            "    Protein  Fat  Carbs  Fibre  \n",
            "0         5   28     70    1.5  \n",
            "1         2    3     26    1.2  \n",
            "2         6   23     26    0.4  \n",
            "3         8   19     53    2.8  \n",
            "4        11   23     55    0.8  \n",
            "5         3   14     50    1.0  \n",
            "6         1    5     13    0.6  \n",
            "7         2    9     19    0.9  \n",
            "8         1    5     16    0.4  \n",
            "9         1    4     21    0.6  \n",
            "10        3   22     38    2.3  \n",
            "11        1    4     14    0.6  \n",
            "12        4   13     61    2.0  \n",
            "13        3   10     48    2.0  \n",
            "14        4   16     67    1.9  \n",
            "15        1   11     24    0.8  \n",
            "16        2    6     35    0.9  \n",
            "17        4   13     26    1.1  \n",
            "18        2    4     24    0.5  \n",
            "19        5   12     26    1.5  \n"
          ]
        }
      ]
    },
    {
      "cell_type": "code",
      "source": [
        "# Print the data head\n",
        "\n",
        "print(df.head())\n"
      ],
      "metadata": {
        "colab": {
          "base_uri": "https://localhost:8080/"
        },
        "id": "5hnUuNAg8PyJ",
        "outputId": "e9e5bb40-0ce0-486f-ec44-640ed9efe573"
      },
      "execution_count": 27,
      "outputs": [
        {
          "output_type": "stream",
          "name": "stdout",
          "text": [
            "                                           Food Item Measure  Calories  \\\n",
            "0  Carrot, homemade with cream cheese icing (2 la...    1/12       542   \n",
            "1           Cereal bar, fruit filled (Nutri-GrainTM)       1       135   \n",
            "2                Cheesecake, commercial (15 cm diam)     1/6       321   \n",
            "3     Cheesecake, from mix, no-bake type (20cm diam)     1/8       407   \n",
            "4  Cheesecake, plain, homemade with cherry toppin...     1/8       459   \n",
            "\n",
            "   Protein  Fat  Carbs  Fibre  \n",
            "0        5   28     70    1.5  \n",
            "1        2    3     26    1.2  \n",
            "2        6   23     26    0.4  \n",
            "3        8   19     53    2.8  \n",
            "4       11   23     55    0.8  \n"
          ]
        }
      ]
    },
    {
      "cell_type": "code",
      "source": [
        "#print specific columns\n",
        "\n",
        "print(df[['Food Item','Carbs']])"
      ],
      "metadata": {
        "colab": {
          "base_uri": "https://localhost:8080/"
        },
        "id": "xXpWnt418S1x",
        "outputId": "e65177aa-8ac8-490e-9ac6-5af3213d530d"
      },
      "execution_count": 28,
      "outputs": [
        {
          "output_type": "stream",
          "name": "stdout",
          "text": [
            "                                            Food Item  Carbs\n",
            "0   Carrot, homemade with cream cheese icing (2 la...     70\n",
            "1            Cereal bar, fruit filled (Nutri-GrainTM)     26\n",
            "2                 Cheesecake, commercial (15 cm diam)     26\n",
            "3      Cheesecake, from mix, no-bake type (20cm diam)     53\n",
            "4   Cheesecake, plain, homemade with cherry toppin...     55\n",
            "5             Cherry, commercial, 2 crust (23cm diam)     50\n",
            "6                          Chocolate chip, commercial     13\n",
            "7                            Chocolate chip, homemade     19\n",
            "8           Chocolate chip, refrigerated dough, baked     16\n",
            "9                        Chocolate coated marshmallow     21\n",
            "10            Chocolate cream, commercial (20cm diam)     38\n",
            "11                                 Chocolate sandwich     14\n",
            "12        Chocolate, from mix, with icing (23cm diam)     61\n",
            "13  Chocolate, frozen, commercial, with chocolate ...     48\n",
            "14  Chocolate, homemade, with icing (2 layer, 23cm...     67\n",
            "15              Coconut cream, commercial (20cm diam)     24\n",
            "16                        Coconut macaroons, homemade     35\n",
            "17  Coffee cake, cinnamon with crumb topping, comm...     26\n",
            "18  Coffee cake, cinnamon with crumb topping, from...     24\n",
            "19                                  Croissant, butter     26\n"
          ]
        }
      ]
    }
  ]
}