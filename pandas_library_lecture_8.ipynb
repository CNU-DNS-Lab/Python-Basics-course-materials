{
  "nbformat": 4,
  "nbformat_minor": 0,
  "metadata": {
    "colab": {
      "provenance": [],
      "authorship_tag": "ABX9TyPHNd2YUvqd299//k384wkU"
    },
    "kernelspec": {
      "name": "python3",
      "display_name": "Python 3"
    },
    "language_info": {
      "name": "python"
    }
  },
  "cells": [
    {
      "cell_type": "markdown",
      "source": [
        "First install pandas library as follows:"
      ],
      "metadata": {
        "id": "sPCQm4Fu2G7y"
      }
    },
    {
      "cell_type": "code",
      "execution_count": null,
      "metadata": {
        "id": "MVSsuK8u2E9W"
      },
      "outputs": [],
      "source": [
        "pip install pandas"
      ]
    },
    {
      "cell_type": "markdown",
      "source": [
        "**Example 1: Visualize the excel file data with pandas library**"
      ],
      "metadata": {
        "id": "J_hnupFN4p8x"
      }
    },
    {
      "cell_type": "code",
      "source": [
        "import pandas as pd\n",
        "\n",
        "file_path = 'example_data.xlsx'\n",
        "\n",
        "# Use pandas to read the Excel file.\n",
        "df = pd.read_excel(file_path)\n",
        "\n",
        "print(df)"
      ],
      "metadata": {
        "id": "voEOWgZC2WYK"
      },
      "execution_count": null,
      "outputs": []
    },
    {
      "cell_type": "code",
      "source": [
        "# Print the data head\n",
        "print(df.head())\n"
      ],
      "metadata": {
        "id": "5hnUuNAg8PyJ"
      },
      "execution_count": null,
      "outputs": []
    },
    {
      "cell_type": "code",
      "source": [
        "#print specific columns\n",
        "print(df[['Food Item','Carbs']])"
      ],
      "metadata": {
        "id": "xXpWnt418S1x"
      },
      "execution_count": null,
      "outputs": []
    }
  ]
}