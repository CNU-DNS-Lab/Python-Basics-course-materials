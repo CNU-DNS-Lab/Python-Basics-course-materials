{
  "nbformat": 4,
  "nbformat_minor": 0,
  "metadata": {
    "colab": {
      "provenance": [],
      "toc_visible": true,
      "authorship_tag": "ABX9TyOEuch/n1BdZ6iQqSStxAoB"
    },
    "kernelspec": {
      "name": "python3",
      "display_name": "Python 3"
    },
    "language_info": {
      "name": "python"
    }
  },
  "cells": [
    {
      "cell_type": "code",
      "execution_count": null,
      "metadata": {
        "id": "f8HmI6xyJ0Cz"
      },
      "outputs": [],
      "source": [
        "# Arithmetic Expressions Example\n",
        "\n",
        "# Define two numbers\n",
        "x = 8\n",
        "y = 3"
      ]
    },
    {
      "cell_type": "markdown",
      "source": [
        "**Addition**"
      ],
      "metadata": {
        "id": "bcOpu5gTQG4m"
      }
    },
    {
      "cell_type": "code",
      "source": [
        "# Addition\n",
        "addition_result = x + y\n",
        "print(\"Addition:\", addition_result)"
      ],
      "metadata": {
        "id": "VhJv_0D4QEqu"
      },
      "execution_count": null,
      "outputs": []
    },
    {
      "cell_type": "markdown",
      "source": [
        "**Substraction**"
      ],
      "metadata": {
        "id": "LT_edaAmQnPX"
      }
    },
    {
      "cell_type": "code",
      "source": [
        "# Subtraction\n",
        "subtraction_result = x - y\n",
        "print(\"Subtraction:\", subtraction_result)"
      ],
      "metadata": {
        "id": "puCUhny2QmH3"
      },
      "execution_count": null,
      "outputs": []
    },
    {
      "cell_type": "markdown",
      "source": [
        "**Multiplication**"
      ],
      "metadata": {
        "id": "tmmVX5cmQvg-"
      }
    },
    {
      "cell_type": "code",
      "source": [
        "multiplication_result = x * y\n",
        "print(\"Multiplication:\", multiplication_result)"
      ],
      "metadata": {
        "id": "nAeN5nc_QmNO"
      },
      "execution_count": null,
      "outputs": []
    },
    {
      "cell_type": "markdown",
      "source": [
        "**Division**"
      ],
      "metadata": {
        "id": "R20pjiRzQ6uw"
      }
    },
    {
      "cell_type": "code",
      "source": [
        "# Division\n",
        "division_result = x / y\n",
        "print(\"Division:\", division_result)"
      ],
      "metadata": {
        "id": "C45URKLSQ-A3"
      },
      "execution_count": null,
      "outputs": []
    },
    {
      "cell_type": "markdown",
      "source": [
        "**Floor Division**"
      ],
      "metadata": {
        "id": "zhoYpJqeRAt2"
      }
    },
    {
      "cell_type": "code",
      "source": [
        "floor_division_result = x // y\n",
        "print(\"Floor Division:\", floor_division_result)"
      ],
      "metadata": {
        "id": "LpHn5W_qRAVG"
      },
      "execution_count": null,
      "outputs": []
    },
    {
      "cell_type": "markdown",
      "source": [
        "**Modulus (remainder of division)**"
      ],
      "metadata": {
        "id": "Dal6i7s-RIOl"
      }
    },
    {
      "cell_type": "code",
      "source": [
        "modulus_result = x % y\n",
        "print(\"Modulus:\", modulus_result)"
      ],
      "metadata": {
        "id": "3jUIEeJQRLeW"
      },
      "execution_count": null,
      "outputs": []
    },
    {
      "cell_type": "markdown",
      "source": [
        "**Exponentiation (power)**"
      ],
      "metadata": {
        "id": "15firscnRRNl"
      }
    },
    {
      "cell_type": "code",
      "source": [
        "exponentiation_result = x ** y\n",
        "print(\"Exponentiation:\", exponentiation_result)"
      ],
      "metadata": {
        "id": "Llg1BHTPROr2"
      },
      "execution_count": null,
      "outputs": []
    },
    {
      "cell_type": "markdown",
      "source": [
        "**Calculating Area and Perimeter of a Rectangle**"
      ],
      "metadata": {
        "id": "iJmTC6pSR_Pe"
      }
    },
    {
      "cell_type": "code",
      "source": [
        "# Define the length and width of the rectangle\n",
        "length = 10 #in meters\n",
        "width = 5   #in meters\n",
        "\n",
        "# Calculate the Area\n",
        "area = length * width\n",
        "print(\"Area of the rectangle is:\",area,\"sqm\")\n",
        "\n",
        "# Calculate the Perimeter\n",
        "perimeter = 2 * (length + width)\n",
        "print(\"Perimeter of the rectangle is:\", perimeter, \"m\")"
      ],
      "metadata": {
        "id": "XMlaA91QSEKe"
      },
      "execution_count": null,
      "outputs": []
    }
  ]
}
