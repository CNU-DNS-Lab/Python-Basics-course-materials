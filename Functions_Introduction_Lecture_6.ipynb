{
  "nbformat": 4,
  "nbformat_minor": 0,
  "metadata": {
    "colab": {
      "provenance": [],
      "authorship_tag": "ABX9TyO6JH1T4mAZFxO2HMMvaG4/"
    },
    "kernelspec": {
      "name": "python3",
      "display_name": "Python 3"
    },
    "language_info": {
      "name": "python"
    }
  },
  "cells": [
    {
      "cell_type": "markdown",
      "source": [
        " **Example 1: Creating and Calling a Function**"
      ],
      "metadata": {
        "id": "tM6X6N9RNYLC"
      }
    },
    {
      "cell_type": "code",
      "source": [
        "def my_function():                          #Creating a function with def keyword\n",
        "  print(\"Hello from a function\")\n",
        "\n",
        "my_function()                               #calling the function"
      ],
      "metadata": {
        "colab": {
          "base_uri": "https://localhost:8080/"
        },
        "id": "LYGlISyCNXeT",
        "outputId": "52244cd1-aa5e-4750-fda8-0e93d84e61b8"
      },
      "execution_count": 21,
      "outputs": [
        {
          "output_type": "stream",
          "name": "stdout",
          "text": [
            "Hello from a function\n"
          ]
        }
      ]
    },
    {
      "cell_type": "markdown",
      "source": [
        " **Example 2: Understanding Indentation Rules**:\n",
        "\n",
        "When you indent the lines in a block, make sure each line begins with the same number of spaces. Otherwise, an error will occur."
      ],
      "metadata": {
        "id": "kEjOdL37-SbI"
      }
    },
    {
      "cell_type": "code",
      "source": [
        "def my_function():\n",
        "  print('And now for')\n",
        " print('something completely')  #indentation error\n",
        "   print('different.')          #indentation error\n",
        "\n",
        "my_function()"
      ],
      "metadata": {
        "id": "vLm70JO1-VF_"
      },
      "execution_count": null,
      "outputs": []
    },
    {
      "cell_type": "markdown",
      "source": [
        "**Example 3-1: local Variables in function**\n",
        "\n",
        "This program has two functions: main and get_name.\n",
        "\n",
        "In line 7, the name variable is assigned\n",
        "a value that is entered by the user.\n",
        "\n",
        "This statement is inside the get_name function, so the name variable is local to that function.\n",
        "\n",
        "**This means that the name variable cannot be accessed by statements outside the get_name function.**"
      ],
      "metadata": {
        "id": "Cs_WuhyjK1Bp"
      }
    },
    {
      "cell_type": "code",
      "source": [
        "# Definition of the main function.\n",
        "def main():\n",
        "  get_name()\n",
        "  print('Hello', name)      # This causes an error!\n",
        "# Definition of the get_name function.\n",
        "def get_name():\n",
        "     name = input('Enter your name: ')\n",
        "# Call the main function.\n",
        "main()"
      ],
      "metadata": {
        "id": "J7NOBkO4K1JP"
      },
      "execution_count": null,
      "outputs": []
    },
    {
      "cell_type": "markdown",
      "source": [
        "**Example 3-2: local Variables in function- corrected**\n",
        "\n"
      ],
      "metadata": {
        "id": "kH4IGQ6ZPAtf"
      }
    },
    {
      "cell_type": "code",
      "source": [
        "# Definition of the main function.\n",
        "def main():\n",
        "  name = get_name()     # Store the returned value from get_name in a variable\n",
        "  print('Hello', name)\n",
        "\n",
        "# Definition of the get_name function.\n",
        "def get_name():\n",
        "     name = input('Enter your name: ')\n",
        "     return name\n",
        "# Call the main function.\n",
        "main()"
      ],
      "metadata": {
        "colab": {
          "base_uri": "https://localhost:8080/"
        },
        "id": "iWTuQK4pLpzn",
        "outputId": "f4fdc651-27e8-4866-ad0a-e44897a97176"
      },
      "execution_count": 58,
      "outputs": [
        {
          "output_type": "stream",
          "name": "stdout",
          "text": [
            "Enter your name: John\n",
            "Hello John\n"
          ]
        }
      ]
    },
    {
      "cell_type": "markdown",
      "source": [
        "**Example 4: same local variables for different functions**"
      ],
      "metadata": {
        "id": "PUNHuSE3QdP4"
      }
    },
    {
      "cell_type": "code",
      "source": [
        "# This program demonstrates two functions that\n",
        "# have local variables with the same name.\n",
        "\n",
        "def main():\n",
        "      # Call the texas function.\n",
        "      texas()\n",
        "      # Call the california function.\n",
        "      california()\n",
        "\n",
        "# Definition of the texas function. It creates\n",
        "# a local variable named birds.\n",
        "def texas():\n",
        "     birds = 5000\n",
        "     print('texas has', birds, 'birds.')\n",
        "\n",
        "     # Definition of the california function. It also\n",
        "     # creates a local variable named birds.\n",
        "def california():\n",
        "     birds = 8000\n",
        "     print('california has', birds, 'birds.')\n",
        "\n",
        "# Call the main function.\n",
        "main()"
      ],
      "metadata": {
        "colab": {
          "base_uri": "https://localhost:8080/"
        },
        "id": "u8E6bOZJQdd4",
        "outputId": "2826a613-fda6-49d0-a717-90942b22b19a"
      },
      "execution_count": 16,
      "outputs": [
        {
          "output_type": "stream",
          "name": "stdout",
          "text": [
            "texas has 5000 birds.\n",
            "california has 8000 birds.\n"
          ]
        }
      ]
    },
    {
      "cell_type": "markdown",
      "source": [
        "**Example 5: Passing arguments in a function**\n",
        "\n",
        "![image.png](data:image/png;base64,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)"
      ],
      "metadata": {
        "id": "XWqZ5A0ney8t"
      }
    },
    {
      "cell_type": "code",
      "source": [
        "# This program demonstrates an argument being\n",
        "# passed to a function.\n",
        "\n",
        "def main():\n",
        "    value = 5\n",
        "    show_double(value)\n",
        "\n",
        "# The show_double function accepts an argument\n",
        "# and displays double its value.\n",
        "def show_double(number):\n",
        "    result = number * 2\n",
        "    print(result)\n",
        "# Call the main function.\n",
        "main()"
      ],
      "metadata": {
        "colab": {
          "base_uri": "https://localhost:8080/"
        },
        "id": "gWAvlH0aezNk",
        "outputId": "bb65d4b3-6045-4325-bee4-e8179f78a95e"
      },
      "execution_count": 2,
      "outputs": [
        {
          "output_type": "stream",
          "name": "stdout",
          "text": [
            "10\n"
          ]
        }
      ]
    },
    {
      "cell_type": "markdown",
      "source": [
        "**Example 6: Solving Michael's Problem**\n",
        "\n",
        "Your friend Michael runs a catering company.\n",
        "\n",
        "Some of the ingredients that his recipes require are measured in cups.\n",
        "\n",
        "When he goes to the grocery store to buy those ingredients, however, they are sold only by the fluid ounce.\n",
        "\n",
        "*He has asked you to write a simple program that converts cups to fluid ounces.*\n",
        "\n",
        "***formula***: 1 cup  =  8 fluid ounces\n"
      ],
      "metadata": {
        "id": "D18uP23gLVpK"
      }
    },
    {
      "cell_type": "code",
      "source": [
        "# This program converts cups to fluid ounces.\n",
        "\n",
        "def main():\n",
        "    intro() #calling intro function\n",
        "    cups_needed = int(input('Enter the number of cups: '))\n",
        "    cups_to_ounces(cups_needed)  #covert cups to ounces\n",
        "\n",
        "  # The intro function displays an introductory screen.\n",
        "def intro():\n",
        "    print('This program converts measurements in cups to fluid ounces.')\n",
        "    print('For your reference the formula is:')\n",
        "    print('1 cup = 8 fluid ounces')\n",
        "\n",
        "  # The cups_to_ounces function accepts a number of\n",
        "  # cups and displays the equivalent number of ounces.\n",
        "def cups_to_ounces(cups):\n",
        "     ounces = cups * 8\n",
        "     print('That converts to', ounces, 'ounces.')\n",
        "\n",
        "  # Call the main function.\n",
        "main()"
      ],
      "metadata": {
        "colab": {
          "base_uri": "https://localhost:8080/"
        },
        "id": "ALtSoKoMJdjD",
        "outputId": "fc3b7e8d-7702-4383-cba5-5e197e85b177"
      },
      "execution_count": 49,
      "outputs": [
        {
          "output_type": "stream",
          "name": "stdout",
          "text": [
            "This program converts measurements in cups to fluid ounces.\n",
            "For your reference the formula is:\n",
            "1 cup = 8 fluid ounces\n",
            "Enter the number of cups: 2\n",
            "That converts to 16 ounces.\n"
          ]
        }
      ]
    },
    {
      "cell_type": "markdown",
      "source": [
        "**Exmaple 7: Passing two integer arguments to a function**\n",
        "\n",
        "By default, a function must be called with the correct number of arguments. Meaning that if your function expects 2 arguments, you have to call the function with 2 arguments, not more, and not less."
      ],
      "metadata": {
        "id": "FFZdHBsqrsqn"
      }
    },
    {
      "cell_type": "code",
      "source": [
        "def main():\n",
        "  num1 = int(input('Add first number for addition: ')  )\n",
        "  num2 = int(input('Add second number for addition: ')  )\n",
        "  add_numbers(num1, num2)\n",
        "\n",
        "def add_numbers(n1,n2):\n",
        "    result = n1 + n2\n",
        "    print ('Addition is:', result)\n",
        "\n",
        "main()"
      ],
      "metadata": {
        "colab": {
          "base_uri": "https://localhost:8080/"
        },
        "id": "s5nrcAerrs6P",
        "outputId": "3000dbca-17e9-4364-89c1-ffd23a26513a"
      },
      "execution_count": 50,
      "outputs": [
        {
          "output_type": "stream",
          "name": "stdout",
          "text": [
            "Add first number for addition: 80\n",
            "Add second number for addition: 20\n",
            "Addition is: 100\n"
          ]
        }
      ]
    },
    {
      "cell_type": "markdown",
      "source": [
        "**Exmaple 7: Passing two string arguments to a function**"
      ],
      "metadata": {
        "id": "jOP_GtD2f7eq"
      }
    },
    {
      "cell_type": "code",
      "source": [
        " # This program demonstrates passing two string\n",
        " # arguments to a function.\n",
        "\n",
        "def main():\n",
        "  first_name = input('Enter your first name: ')\n",
        "  last_name = input('Enter your last name: ')\n",
        "  print('Your name reversed is:')\n",
        "  reverse_name(first_name, last_name)\n",
        "\n",
        "def reverse_name(first, last):\n",
        "  print(last, first)\n",
        "# Call the main function.\n",
        "main()"
      ],
      "metadata": {
        "colab": {
          "base_uri": "https://localhost:8080/"
        },
        "id": "YareXOMqf7pr",
        "outputId": "fe5270b7-4ec0-4889-e99c-e306588e35cf"
      },
      "execution_count": 31,
      "outputs": [
        {
          "output_type": "stream",
          "name": "stdout",
          "text": [
            "Enter your first name: Harry \n",
            "Enter your last name: Potter\n",
            "Your name reversed is:\n",
            "Potter Harry \n"
          ]
        }
      ]
    }
  ]
}