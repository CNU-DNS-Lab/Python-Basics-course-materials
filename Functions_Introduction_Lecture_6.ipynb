{
  "nbformat": 4,
  "nbformat_minor": 0,
  "metadata": {
    "colab": {
      "provenance": [],
      "authorship_tag": "ABX9TyMeMVZ9bnlTQUDeBBncuFNT"
    },
    "kernelspec": {
      "name": "python3",
      "display_name": "Python 3"
    },
    "language_info": {
      "name": "python"
    }
  },
  "cells": [
    {
      "cell_type": "markdown",
      "source": [
        "**Example 1: Understanding Void Function**\n",
        "\n",
        "In this example, print_greeting() performs an action (printing a message), but it doesn't explicitly return any value.\n",
        "\n",
        "When result is printed, it shows None, which is Python's equivalent to a \"void\" return type in other languages."
      ],
      "metadata": {
        "id": "KlCIDxo1rSMG"
      }
    },
    {
      "cell_type": "code",
      "execution_count": 5,
      "metadata": {
        "colab": {
          "base_uri": "https://localhost:8080/"
        },
        "id": "exdvvfL_q6J0",
        "outputId": "c3f15a88-5437-4ec8-c45a-f29a874cb0a2"
      },
      "outputs": [
        {
          "output_type": "stream",
          "name": "stdout",
          "text": [
            "Hello! This is a void function because it does not explicitly return a value.\n",
            "None\n"
          ]
        }
      ],
      "source": []
    },
    {
      "cell_type": "markdown",
      "source": [
        "**Exmaple 2: Value returning Function**\n",
        "\n",
        "In this example, add_numbers is a value-returning function. It takes two arguments a and b, adds them together, and returns the result. When we call add_numbers(5, 3), the function returns 8, and we store that in the variable sum.\n",
        "\n",
        "The returned value can be of any data type(list,etc.). The key characteristic of value-returning functions is that they give back a value that you can assign to a variable, pass to another function, or otherwise operate on."
      ],
      "metadata": {
        "id": "FFZdHBsqrsqn"
      }
    },
    {
      "cell_type": "code",
      "source": [
        "def add_numbers(a, b):\n",
        "    result = a + b\n",
        "    return result\n",
        "\n",
        "# Calling the function and storing its return value\n",
        "sum = add_numbers(5, 3)\n",
        "print(sum)"
      ],
      "metadata": {
        "colab": {
          "base_uri": "https://localhost:8080/"
        },
        "id": "s5nrcAerrs6P",
        "outputId": "9a4ff1b0-4925-478b-df25-5add8c002a60"
      },
      "execution_count": 4,
      "outputs": [
        {
          "output_type": "stream",
          "name": "stdout",
          "text": [
            "8\n"
          ]
        }
      ]
    },
    {
      "cell_type": "markdown",
      "source": [
        " **Example 3: Understanding Indentation Rules**:\n",
        "\n",
        "When you indent the lines in a block, make sure each line begins with the same number of spaces. Otherwise, an error will occur."
      ],
      "metadata": {
        "id": "kEjOdL37-SbI"
      }
    },
    {
      "cell_type": "code",
      "source": [
        "def my_function():\n",
        " print('And now for')\n",
        "print('something completely')\n",
        "  print('different.')\n",
        "\n",
        "my_function()"
      ],
      "metadata": {
        "id": "vLm70JO1-VF_"
      },
      "execution_count": null,
      "outputs": []
    },
    {
      "cell_type": "markdown",
      "source": [
        "**Example 4-1: local Variables in function**\n",
        "\n",
        "This program has two functions: main and get_name.\n",
        "\n",
        "In line 7, the name variable is assigned\n",
        "a value that is entered by the user.\n",
        "\n",
        "This statement is inside the get_name function, so the name variable is local to that function.\n",
        "\n",
        "**This means that the name variable cannot be accessed by statements outside the get_name function.**"
      ],
      "metadata": {
        "id": "Cs_WuhyjK1Bp"
      }
    },
    {
      "cell_type": "code",
      "source": [
        "# Definition of the main function.\n",
        "def main():\n",
        "  get_name()\n",
        "  print('Hello', name)      # This causes an error!\n",
        "# Definition of the get_name function.\n",
        "def get_name():\n",
        "     name = input('Enter your name: ')\n",
        "# Call the main function.\n",
        "main()"
      ],
      "metadata": {
        "id": "J7NOBkO4K1JP"
      },
      "execution_count": null,
      "outputs": []
    },
    {
      "cell_type": "markdown",
      "source": [
        "**Example 4-2: local Variables in function- corrected**\n",
        "\n"
      ],
      "metadata": {
        "id": "kH4IGQ6ZPAtf"
      }
    },
    {
      "cell_type": "code",
      "source": [
        "# Definition of the main function.\n",
        "def main():\n",
        "  name = get_name()      # Store the returned value from get_name in a variable\n",
        "  print('Hello', name)   # Now the 'name' variable is accessible\n",
        "\n",
        "# Definition of the get_name function.\n",
        "def get_name():\n",
        "     name = input('Enter your name: ')\n",
        "     return name         # Return the value of 'name' to the caller\n",
        "\n",
        "# Call the main function.\n",
        "main()"
      ],
      "metadata": {
        "colab": {
          "base_uri": "https://localhost:8080/"
        },
        "id": "iWTuQK4pLpzn",
        "outputId": "da6c959e-8ac1-47e0-cb91-2dadb346e05f"
      },
      "execution_count": 14,
      "outputs": [
        {
          "output_type": "stream",
          "name": "stdout",
          "text": [
            "Enter your name: John\n",
            "Hello John\n"
          ]
        }
      ]
    },
    {
      "cell_type": "markdown",
      "source": [
        "**Example 5: same local variables for different functions**"
      ],
      "metadata": {
        "id": "PUNHuSE3QdP4"
      }
    },
    {
      "cell_type": "code",
      "source": [
        "# This program demonstrates two functions that\n",
        "# have local variables with the same name.\n",
        "\n",
        "def main():\n",
        "      # Call the texas function.\n",
        "      texas()\n",
        "      # Call the california function.\n",
        "      california()\n",
        "\n",
        "# Definition of the texas function. It creates\n",
        "# a local variable named birds.\n",
        "def texas():\n",
        "     birds = 5000\n",
        "     print('texas has', birds, 'birds.')\n",
        "\n",
        "     # Definition of the california function. It also\n",
        "     # creates a local variable named birds.\n",
        "def california():\n",
        "     birds = 8000\n",
        "     print('california has', birds, 'birds.')\n",
        "\n",
        "# Call the main function.\n",
        "main()"
      ],
      "metadata": {
        "colab": {
          "base_uri": "https://localhost:8080/"
        },
        "id": "u8E6bOZJQdd4",
        "outputId": "2826a613-fda6-49d0-a717-90942b22b19a"
      },
      "execution_count": 16,
      "outputs": [
        {
          "output_type": "stream",
          "name": "stdout",
          "text": [
            "texas has 5000 birds.\n",
            "california has 8000 birds.\n"
          ]
        }
      ]
    }
  ]
}