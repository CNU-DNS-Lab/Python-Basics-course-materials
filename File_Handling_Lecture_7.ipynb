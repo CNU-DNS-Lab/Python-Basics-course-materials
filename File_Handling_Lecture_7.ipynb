{
  "nbformat": 4,
  "nbformat_minor": 0,
  "metadata": {
    "colab": {
      "provenance": [],
      "authorship_tag": "ABX9TyNoixMD+D7S92ZnGV4jT5Ya"
    },
    "kernelspec": {
      "name": "python3",
      "display_name": "Python 3"
    },
    "language_info": {
      "name": "python"
    }
  },
  "cells": [
    {
      "cell_type": "markdown",
      "source": [
        "**ATTENTION:**\n",
        "\n",
        "*The text files mentioned in the examples:\n",
        "my_first_file.txt, astronauts.txt, friends.txt will get created when you execute these codes.*\n",
        "\n",
        "*Hence they are not uploaded on github lecture materials.*"
      ],
      "metadata": {
        "id": "EkhhLs3uJOvP"
      }
    },
    {
      "cell_type": "markdown",
      "source": [
        "**Example 1:**\n",
        "\n",
        "**Create a file named my_first_file.txt and write data to it.**\n",
        "\n",
        "    \n",
        "    **Note**: Remember, when you use the 'w' mode, you are creating the file on the disk.\n",
        "    If a file with the specified name already exists when the file is opened, the contents of the existing file will be deleted."
      ],
      "metadata": {
        "id": "wgQ0OYMedYIw"
      }
    },
    {
      "cell_type": "code",
      "source": [
        "# After executing the following line will create a new file named - 'my_first_file.txt' and\n",
        "# new_file will reference to a file object that we can use to read data from the file\n",
        "new_file = open('my_first_file.txt', 'w')"
      ],
      "metadata": {
        "id": "4R_2dL7FdXzh"
      },
      "execution_count": null,
      "outputs": []
    },
    {
      "cell_type": "markdown",
      "source": [
        "**Example 2:**  \n",
        "\n",
        "**File objects have a method named write that can be used to write data to a file.**\n",
        "\n",
        "\n",
        "        file_variable.write(string)\n",
        "\n",
        "Use the file object’s close method to close a file.        \n",
        "\n",
        "        file_variable.close()\n"
      ],
      "metadata": {
        "id": "jkatf_jcfyKS"
      }
    },
    {
      "cell_type": "code",
      "source": [
        "# This program writes three lines of data to a file.\n",
        "def main():\n",
        "    # Open a file named astronauts.txt.\n",
        "    myfile = open('astronauts.txt', 'w')\n",
        "\n",
        "    # Write the names of three astronauts to the file.\n",
        "    myfile.write('Kalpana Chawla\\n')  # adding \\n end the line and shifts to new line. works like pressing enter key.\n",
        "    myfile.write('Sunita Williams\\n')\n",
        "    myfile.write('Rakesh Sharma\\n')\n",
        "\n",
        "   # Close the file.\n",
        "    myfile.close()\n",
        "   # Call the main function.\n",
        "main()"
      ],
      "metadata": {
        "id": "94-_vAGdfyUB"
      },
      "execution_count": 30,
      "outputs": []
    },
    {
      "cell_type": "markdown",
      "source": [
        "**Example 3** :\n",
        "\n",
        "**Lets read the astronauts.txt file.**\n",
        "\n",
        "Use the file object’s read method to read the file.\n",
        "    \n",
        "      file_variable.read()"
      ],
      "metadata": {
        "id": "OYTPrOs_nt-c"
      }
    },
    {
      "cell_type": "code",
      "source": [
        "#The file’s contents are read into memory as a string and\n",
        "# assigned to the file_contents variable.\n",
        "\n",
        "def main():\n",
        "  infile = open('astronauts.txt', 'r')\n",
        "  file_contents = infile.read()\n",
        "  infile.close()\n",
        "  print(file_contents)\n",
        "main()"
      ],
      "metadata": {
        "colab": {
          "base_uri": "https://localhost:8080/"
        },
        "id": "U-PVEQ9moE0r",
        "outputId": "af71a09c-6a2c-4636-8269-fe9c8ab075a7"
      },
      "execution_count": null,
      "outputs": [
        {
          "output_type": "stream",
          "name": "stdout",
          "text": [
            "Kalpana Chawla\n",
            "Sunita Williams\n",
            "Rakesh Sharma\n",
            "\n"
          ]
        }
      ]
    },
    {
      "cell_type": "markdown",
      "source": [
        "**Example 4:**\n",
        "\n",
        "In Python,\n",
        "you can use the readline method to read a line from a file.\n",
        "\n",
        "      line_variable = file_variable.readline()"
      ],
      "metadata": {
        "id": "H4qMyNWlqYGK"
      }
    },
    {
      "cell_type": "code",
      "source": [
        "# The output of readline() method\n",
        "# returns the line as a string, including the \\n.\n",
        "\n",
        "def main():\n",
        "  infile = open('astronauts.txt','r')\n",
        "  line1 = infile.readline()\n",
        "  line2 = infile.readline()\n",
        "  line3 = infile.readline()\n",
        "  #infile.close()\n",
        "  print(line1)\n",
        "  print(line2)\n",
        "  print(line3)\n",
        "\n",
        "main()"
      ],
      "metadata": {
        "colab": {
          "base_uri": "https://localhost:8080/"
        },
        "id": "CsKUsGVxqYdZ",
        "outputId": "247787e8-0784-47d8-b3cc-edc5f17642a7"
      },
      "execution_count": null,
      "outputs": [
        {
          "output_type": "stream",
          "name": "stdout",
          "text": [
            "Kalpana Chawla\n",
            "\n",
            "Sunita Williams\n",
            "\n",
            "Rakesh Sharma\n",
            "\n"
          ]
        }
      ]
    },
    {
      "cell_type": "markdown",
      "source": [
        "**Example 5**\n",
        "\n",
        "Concatenating (adding) newline to a string.\n",
        "\n",
        "      file_variable.write(string_var + '\\n')\n"
      ],
      "metadata": {
        "id": "8y_8kZS7zCBK"
      }
    },
    {
      "cell_type": "code",
      "source": [
        "# This program gets three names from the user\n",
        "# and writes them to a file.\n",
        "def main():\n",
        "    # Get three names.\n",
        "    print('Enter the names of three friends.')\n",
        "    name1 = input('Friend #1: ')\n",
        "    name2 = input('Friend #2: ')\n",
        "    name3 = input('Friend #3: ')\n",
        "    # Open a file named friends.txt.\n",
        "    myfile = open('friends.txt', 'w')\n",
        "    # Write the names to the file.\n",
        "    myfile.write(name1 + '\\n')\n",
        "    myfile.write(name2 + '\\n')\n",
        "    myfile.write(name3 + '\\n')\n",
        "    # Close the file.\n",
        "    myfile.close()\n",
        "    print('The names were written to friends.txt.')\n",
        "    # Call the main function.\n",
        "main()"
      ],
      "metadata": {
        "colab": {
          "base_uri": "https://localhost:8080/"
        },
        "id": "npFLSNjWzCWQ",
        "outputId": "de62067d-0549-48b2-ae41-b3daefdfc862"
      },
      "execution_count": null,
      "outputs": [
        {
          "output_type": "stream",
          "name": "stdout",
          "text": [
            "Enter the names of three friends.\n",
            "Friend #1: Ram \n",
            "Friend #2: John\n",
            "Friend #3: Jungkook\n",
            "The names were written to friends.txt.\n"
          ]
        }
      ]
    },
    {
      "cell_type": "markdown",
      "source": [
        "**Example 6**\n",
        "\n",
        "Stripping (removing) newline from the string.\n",
        "\n",
        "      line_variable.rstrip()"
      ],
      "metadata": {
        "id": "BAwVrMLa4Txx"
      }
    },
    {
      "cell_type": "code",
      "source": [
        "# The output of readline() method\n",
        "# returns the line as a string, including the \\n.\n",
        "\n",
        "def main():\n",
        "  infile = open('astronauts.txt','r')\n",
        "  # Read three lines from the file.\n",
        "  line1 = infile.readline()\n",
        "  line2 = infile.readline()\n",
        "  line3 = infile.readline()\n",
        "  print(line1)\n",
        "  print(line2)\n",
        "  print(line3)\n",
        "\n",
        "  # Strip the \\n from each string.\n",
        "  line1 = line1.rstrip('\\n')\n",
        "  line2 = line2.rstrip('\\n')\n",
        "  line3 = line3.rstrip('\\n')\n",
        "  infile.close()\n",
        "  print(line1)\n",
        "  print(line2)\n",
        "  print(line3)\n",
        "\n",
        "main()"
      ],
      "metadata": {
        "colab": {
          "base_uri": "https://localhost:8080/"
        },
        "id": "6TDcGzDd02_B",
        "outputId": "8dd0ce6a-bfb2-4df6-dfab-acf9babccb46"
      },
      "execution_count": null,
      "outputs": [
        {
          "output_type": "stream",
          "name": "stdout",
          "text": [
            "Kalpana Chawla\n",
            "\n",
            "Sunita Williams\n",
            "\n",
            "Rakesh Sharma\n",
            "\n",
            "Kalpana Chawla\n",
            "Sunita Williams\n",
            "Rakesh Sharma\n"
          ]
        }
      ]
    },
    {
      "cell_type": "markdown",
      "source": [
        "**Example 7:**\n",
        "\n",
        "Appending (adding) new lines to already existing file\n",
        "\n",
        "**Note:** We have observed in example-1 that each time you use 'w' mode to write in file, it creates new file and deletes the existing file.\n",
        "\n",
        "*Sometimes programmer wants to add the new data to existing file without creating new one. In this case we use append 'a' mode.*"
      ],
      "metadata": {
        "id": "MHboj31IAo6w"
      }
    },
    {
      "cell_type": "code",
      "source": [
        "# This program appends new lines to existing file\n",
        "def main():\n",
        "  myfile = open('friends.txt', 'a')\n",
        "  myfile.write('Rose\\n')\n",
        "  myfile.write('Jenny\\n')\n",
        "  myfile.write('Lisa\\n')\n",
        "  myfile.close()\n",
        "main()"
      ],
      "metadata": {
        "id": "a4XwltFiApDZ"
      },
      "execution_count": null,
      "outputs": []
    }
  ]
}