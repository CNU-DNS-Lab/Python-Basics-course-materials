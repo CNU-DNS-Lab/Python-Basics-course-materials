{
  "nbformat": 4,
  "nbformat_minor": 0,
  "metadata": {
    "colab": {
      "provenance": [],
      "authorship_tag": "ABX9TyNnu8RYcfAeZPQnE8xF99eZ"
    },
    "kernelspec": {
      "name": "python3",
      "display_name": "Python 3"
    },
    "language_info": {
      "name": "python"
    }
  },
  "cells": [
    {
      "cell_type": "markdown",
      "source": [
        "**Exercise 1**:\n",
        "Find the syntax error in the following code and fix it."
      ],
      "metadata": {
        "id": "CIkQ3wEkYeuO"
      }
    },
    {
      "cell_type": "code",
      "source": [
        "amount = 10000\n",
        "if(amount > 2999)\n",
        "print(\"You are eligible to purchase the game\")"
      ],
      "metadata": {
        "id": "k5JOoM5hYd-_"
      },
      "execution_count": null,
      "outputs": []
    },
    {
      "cell_type": "markdown",
      "source": [
        "**ZeroDivisionError**\n",
        "\n",
        "This exception is raised when an attempt is made to divide a number by zero.\n",
        "\n",
        "This code includes ZeroDivisionError and it can be handled with *try* and *except* statement.\n",
        "    \n",
        "    marks = 100\n",
        "    a = marks / 0\n",
        "    print(a)"
      ],
      "metadata": {
        "id": "aKmz8D0WmE5V"
      }
    },
    {
      "cell_type": "code",
      "source": [
        "#Handling the ZeroDivision Exception\n",
        "marks = 100\n",
        "\n",
        "try:\n",
        "    a = marks / 0\n",
        "    print(a)\n",
        "except ZeroDivisionError:\n",
        "    print(\"Error: Cannot divide by zero. Please check the denominator.\")"
      ],
      "metadata": {
        "colab": {
          "base_uri": "https://localhost:8080/"
        },
        "id": "arvEqfAidD23",
        "outputId": "f814b165-b272-4ca1-98bb-93bba7917fdf"
      },
      "execution_count": 17,
      "outputs": [
        {
          "output_type": "stream",
          "name": "stdout",
          "text": [
            "Error: Cannot divide by zero. Please check the denominator.\n"
          ]
        }
      ]
    },
    {
      "cell_type": "markdown",
      "source": [
        "**ValueError**\n",
        "\n",
        "This exception is raised when a function or method is called with an invalid argument or input, such as trying to convert a string to an integer when the string does not represent a valid integer."
      ],
      "metadata": {
        "id": "ZNH0b06smMF2"
      }
    },
    {
      "cell_type": "code",
      "source": [
        "# Determining the grade level from user input\n",
        "user_input = input(\"Enter your grade (9-12): \")\n",
        "\n",
        "try:\n",
        "    grade = int(user_input)\n",
        "    if 9 <= grade <= 12:\n",
        "        print(f\"You are in grade {grade}.\")\n",
        "    else:\n",
        "        print(\"Grade must be between 9 and 12.\")\n",
        "except ValueError:\n",
        "    print(\"Error: Please enter a numeric grade level.\")\n"
      ],
      "metadata": {
        "colab": {
          "base_uri": "https://localhost:8080/"
        },
        "id": "98V6EUuemLu9",
        "outputId": "a0a6306b-44d6-4bae-abea-c74aacd4a557"
      },
      "execution_count": 12,
      "outputs": [
        {
          "output_type": "stream",
          "name": "stdout",
          "text": [
            "Enter your grade (9-12): Third\n",
            "Error: Please enter a numeric grade level.\n"
          ]
        }
      ]
    },
    {
      "cell_type": "markdown",
      "source": [
        "**TypeError**\n",
        "\n",
        "This exception is raised when an operation or function is applied to an object of the wrong type, such as adding a string to an integer.\n"
      ],
      "metadata": {
        "id": "FA0JdDTBmRPl"
      }
    },
    {
      "cell_type": "code",
      "source": [
        "# Adding new followers to total count\n",
        "total_followers = 1200\n",
        "new_followers = \"30\"  # New followers are accidentally entered as a string\n",
        "\n",
        "try:\n",
        "    updated_followers = total_followers + new_followers\n",
        "    print(f\"Updated followers count: {updated_followers}\")\n",
        "except TypeError:\n",
        "    print(\"Error: Cannot add a string to an integer. Please check the new followers count.\")"
      ],
      "metadata": {
        "colab": {
          "base_uri": "https://localhost:8080/"
        },
        "id": "VNLbltcWmRft",
        "outputId": "b96d80b4-d55a-4aa7-fca1-9fb879c49a3a"
      },
      "execution_count": 3,
      "outputs": [
        {
          "output_type": "stream",
          "name": "stdout",
          "text": [
            "Error: Cannot add a string to an integer. Please check the new followers count.\n"
          ]
        }
      ]
    },
    {
      "cell_type": "markdown",
      "source": [
        "**IndexError**\n",
        "\n",
        "This exception is raised when an index is out of range for a list, tuple, or other sequence types."
      ],
      "metadata": {
        "id": "SkWC-lxNmUet"
      }
    },
    {
      "cell_type": "code",
      "source": [
        "# Accessing the top score from a list of game scores\n",
        "scores = [150, 200, 175]  # List of scores\n",
        "try:\n",
        "    top_score = scores[3]  # IndexError, as indices start at 0\n",
        "    print(f\"Top score: {top_score}\")\n",
        "except IndexError:\n",
        "    print(\"Error: Score index out of range. Did you use the correct index?\")"
      ],
      "metadata": {
        "colab": {
          "base_uri": "https://localhost:8080/"
        },
        "id": "Zlz1jgQRmUm3",
        "outputId": "cb7bc79f-81a5-4f44-ec0a-38409c213fd1"
      },
      "execution_count": 16,
      "outputs": [
        {
          "output_type": "stream",
          "name": "stdout",
          "text": [
            "Error: Score index out of range. Did you use the correct index?\n"
          ]
        }
      ]
    },
    {
      "cell_type": "markdown",
      "source": [
        "**IOError**\n",
        "\n",
        "This is an exception that is raised when a file I/O operation fails."
      ],
      "metadata": {
        "id": "e__UKBqpmall"
      }
    },
    {
      "cell_type": "code",
      "source": [
        "# This program displays the contents\n",
        "# of a file.\n",
        "\n",
        "def main():\n",
        "    # Get the name of a file.\n",
        "    filename = input('Enter a filename: ')\n",
        "\n",
        "    try:\n",
        "        # Open the file.\n",
        "        infile = open(filename, 'r')\n",
        "\n",
        "        # Read the file's contents.\n",
        "        contents = infile.read()\n",
        "\n",
        "        # Display the file's contents.\n",
        "        print(contents)\n",
        "\n",
        "        # Close the file.\n",
        "        infile.close()\n",
        "    except IOError:\n",
        "        print('An error occurred trying to read')\n",
        "        print('the file', filename)\n",
        "\n",
        "# Call the main function.\n",
        "main()\n"
      ],
      "metadata": {
        "colab": {
          "base_uri": "https://localhost:8080/"
        },
        "id": "eg4hRZB-ma1d",
        "outputId": "43a42a4a-74d9-496e-fc48-0bf37d5563d3"
      },
      "execution_count": 19,
      "outputs": [
        {
          "output_type": "stream",
          "name": "stdout",
          "text": [
            "Enter a filename: bad_file.txt\n",
            "An error occurred trying to read\n",
            "the file bad_file.txt\n"
          ]
        }
      ]
    }
  ]
}