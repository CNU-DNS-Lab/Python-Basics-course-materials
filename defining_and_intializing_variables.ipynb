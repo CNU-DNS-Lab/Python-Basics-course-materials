{
  "nbformat": 4,
  "nbformat_minor": 0,
  "metadata": {
    "colab": {
      "provenance": [],
      "toc_visible": true,
      "authorship_tag": "ABX9TyMp+AAb2otxopJi1YI19J55",
      "include_colab_link": true
    },
    "kernelspec": {
      "name": "python3",
      "display_name": "Python 3"
    },
    "language_info": {
      "name": "python"
    }
  },
  "cells": [
    {
      "cell_type": "markdown",
      "metadata": {
        "id": "view-in-github",
        "colab_type": "text"
      },
      "source": [
        "<a href=\"https://colab.research.google.com/github/ssk-28/Python-Basics-course-materials/blob/main/defining_and_intializing_variables.ipynb\" target=\"_parent\"><img src=\"https://colab.research.google.com/assets/colab-badge.svg\" alt=\"Open In Colab\"/></a>"
      ]
    },
    {
      "cell_type": "markdown",
      "source": [
        "**Define and initialize variables**"
      ],
      "metadata": {
        "id": "AC6ySC8G_Ohw"
      }
    },
    {
      "cell_type": "code",
      "source": [
        "x = 17      # Defines and initializes x\n",
        "y = x + 3   # Defines  y and initializes y\n",
        "z = w       # Runtime error if w undefined #this statement is for runtime error observation purpose!"
      ],
      "metadata": {
        "id": "AOdRCtEyi0eN"
      },
      "execution_count": null,
      "outputs": []
    },
    {
      "cell_type": "markdown",
      "source": [
        "***In the below example, what do you think will be the output of print(z) ?***"
      ],
      "metadata": {
        "id": "59hg-T15BWdQ"
      }
    },
    {
      "cell_type": "code",
      "source": [
        "w = 2       # Defines and initializes w\n",
        "z = w       # Defines and initializes z\n",
        "print(z)"
      ],
      "metadata": {
        "id": "QV_NqXOy3H5J"
      },
      "execution_count": null,
      "outputs": []
    },
    {
      "cell_type": "markdown",
      "source": [
        "**Many Values to Multiple Variables**"
      ],
      "metadata": {
        "id": "4U2zLsJT--Ef"
      }
    },
    {
      "cell_type": "code",
      "source": [
        "x, y, z = \"Orange\", \"Grapes\", \"Cherry\"\n",
        "print(x)\n",
        "print(y)\n",
        "print(z)"
      ],
      "metadata": {
        "id": "97phQqau_D_f"
      },
      "execution_count": null,
      "outputs": []
    }
  ]
}