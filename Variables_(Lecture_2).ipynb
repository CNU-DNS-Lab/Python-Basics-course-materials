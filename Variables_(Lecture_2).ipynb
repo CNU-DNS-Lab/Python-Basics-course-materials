{
  "nbformat": 4,
  "nbformat_minor": 0,
  "metadata": {
    "colab": {
      "provenance": [],
      "toc_visible": true,
      "authorship_tag": "ABX9TyNNQ627cSAgmJPxp5wU3yh4"
    },
    "kernelspec": {
      "name": "python3",
      "display_name": "Python 3"
    },
    "language_info": {
      "name": "python"
    }
  },
  "cells": [
    {
      "cell_type": "markdown",
      "source": [
        "**Python is Case sensitive : example**"
      ],
      "metadata": {
        "id": "M8DzMsmvy4Nq"
      }
    },
    {
      "cell_type": "code",
      "source": [
        "# declaring variables with same character with upper and lower case to check case sensitivity\n",
        "a = 4\n",
        "A = \"Sally\"\n",
        "print(a)\n",
        "print(A)"
      ],
      "metadata": {
        "id": "GhT_JkLZgGba"
      },
      "execution_count": null,
      "outputs": []
    },
    {
      "cell_type": "markdown",
      "source": [
        "**1. Create your own variables** - age and name\n",
        "\n",
        "  Check their data type with type() *function*"
      ],
      "metadata": {
        "id": "fRMGCx5QfaOA"
      }
    },
    {
      "cell_type": "code",
      "execution_count": null,
      "metadata": {
        "id": "QLsFXAm_vNW6"
      },
      "outputs": [],
      "source": [
        "age = 12\n",
        "name = \"John\""
      ]
    },
    {
      "cell_type": "code",
      "source": [
        "print(type(age))\n",
        "print(type(name))"
      ],
      "metadata": {
        "id": "Vo6WyL3ck52N"
      },
      "execution_count": null,
      "outputs": []
    },
    {
      "cell_type": "markdown",
      "source": [
        "**2. Python is dynamically typed and can interpret and convert between different data types under certain conditions.**\n",
        "\n",
        "1)**print(int(age)):** This statement will work without an error if age contains either a string representation of an integer (e.g., '12') or a floating-point number that doesn't have a fractional part (e.g., 12.0). Python's int() function can convert these types of values to an integer.\n",
        "\n",
        "2) **print(str(age)):** Python's str() function can convert any data type into its string representation. Whether age is an integer, a float, a list, etc., str(age) will produce a string that can be printed out.\n",
        "\n",
        "In this case, it means that the variable age is holding a value compatible with both int() and str() functions in Python."
      ],
      "metadata": {
        "id": "tr1rC-oLBD-a"
      }
    },
    {
      "cell_type": "code",
      "source": [
        "print(age)\n",
        "print(int(age))\n",
        "print(str(age))\n"
      ],
      "metadata": {
        "id": "k1MEy1EpAeSO"
      },
      "execution_count": null,
      "outputs": []
    },
    {
      "cell_type": "markdown",
      "source": [
        "**All operands of the + operator must be of the same type if they are strings.**\n",
        "\n",
        "[The + operator in Python serves as both an arithmetic addition operator and a string concatenation operator, depending on the context]"
      ],
      "metadata": {
        "id": "1_NkYi1_CWLy"
      }
    },
    {
      "cell_type": "code",
      "source": [
        "print(name + \" is \" + str(age) + \" years old.\")"
      ],
      "metadata": {
        "id": "RGIDSqsQAkNa"
      },
      "execution_count": null,
      "outputs": []
    }
  ]
}
