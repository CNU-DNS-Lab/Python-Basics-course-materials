{
  "nbformat": 4,
  "nbformat_minor": 0,
  "metadata": {
    "colab": {
      "provenance": [],
      "toc_visible": true,
      "authorship_tag": "ABX9TyOGW8u6FsGG4Bsk+96EnFkb"
    },
    "kernelspec": {
      "name": "python3",
      "display_name": "Python 3"
    },
    "language_info": {
      "name": "python"
    }
  },
  "cells": [
    {
      "cell_type": "markdown",
      "source": [
        " **1. Understanding Indentation Rules**:\n",
        "\n",
        "When you indent the lines in a block, make sure each line begins with the same number of spaces. Otherwise, an error will occur."
      ],
      "metadata": {
        "id": "kEjOdL37-SbI"
      }
    },
    {
      "cell_type": "code",
      "source": [
        "def main():\n",
        "     print('Hello ')\n",
        "   print('World')\n",
        "\n",
        "main()"
      ],
      "metadata": {
        "id": "vLm70JO1-VF_"
      },
      "execution_count": null,
      "outputs": []
    },
    {
      "cell_type": "markdown",
      "source": [
        "**2: Local Variables in function**\n",
        "\n",
        "The name variable cannot be accessed by statements outside the get_name function.\n",
        "\n",
        "**How would you solve it?**\n",
        "\n",
        " Hint - pass the name argument to get_name"
      ],
      "metadata": {
        "id": "Cs_WuhyjK1Bp"
      }
    },
    {
      "cell_type": "code",
      "source": [
        "def main():\n",
        "  name = 'John'\n",
        "  print('Hello ' + name)\n",
        "  get_name()\n",
        "\n",
        "def get_name():\n",
        "  print('Bye ' + name)\n",
        "\n",
        "main()"
      ],
      "metadata": {
        "id": "jj6HktaVJ2Xk"
      },
      "execution_count": null,
      "outputs": []
    },
    {
      "cell_type": "markdown",
      "source": [
        "**Did you know? :**\n",
        "\n",
        "Above problem can also be solved using **global variable**.\n",
        "\n",
        "**How would you solve it?**\n",
        "\n",
        "Hint- use global keyword for name\n",
        "\n",
        "**3. global declaration of variable**"
      ],
      "metadata": {
        "id": "DFVGPwYXO6R8"
      }
    },
    {
      "cell_type": "code",
      "source": [
        "# solve the error by using global declaration for name\n",
        "\n",
        "def main():\n",
        "  name = 'John'\n",
        "  print('Hello ' + name)\n",
        "  get_name()\n",
        "\n",
        "def get_name():\n",
        "  print('Bye ' + name)\n",
        "\n",
        "main()"
      ],
      "metadata": {
        "id": "gCJcoYQpOpuz"
      },
      "execution_count": null,
      "outputs": []
    },
    {
      "cell_type": "markdown",
      "source": [
        "**4: Passing two integer arguments to a function**\n",
        "\n",
        "By default, a function must be called with the correct number of arguments. Meaning that if your function expects 2 arguments, you have to call the function with 2 arguments, not more, and not less.\n",
        "\n",
        "**Here I want to take user input for num1 and num2. Modify the program accordingly.**"
      ],
      "metadata": {
        "id": "FFZdHBsqrsqn"
      }
    },
    {
      "cell_type": "code",
      "source": [
        "def main():\n",
        "  num1 = 34\n",
        "  num2 = 56\n",
        "  add_numbers(num1, num2)\n",
        "\n",
        "def add_numbers(n1,n2):\n",
        "    result = n1 + n2\n",
        "    print ('Addition is:', result)\n",
        "\n",
        "main()"
      ],
      "metadata": {
        "id": "s5nrcAerrs6P"
      },
      "execution_count": null,
      "outputs": []
    }
  ]
}