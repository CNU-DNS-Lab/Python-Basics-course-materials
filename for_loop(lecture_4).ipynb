{
  "nbformat": 4,
  "nbformat_minor": 0,
  "metadata": {
    "colab": {
      "provenance": [],
      "authorship_tag": "ABX9TyMz+A2Kjf7UQuui7SkIIahq"
    },
    "kernelspec": {
      "name": "python3",
      "display_name": "Python 3"
    },
    "language_info": {
      "name": "python"
    }
  },
  "cells": [
    {
      "cell_type": "markdown",
      "source": [
        "**For Loop**\n",
        "\n",
        "Meaning: assign each element  of sequence in turn to var and  execute the statements.\n",
        "As usual, all of the statements  in the body must be indented  the same amount.\n",
        "\n",
        "\n",
        "*General Form:*\n",
        "\n",
        "    for var in sequence:\n",
        "             statement(s)"
      ],
      "metadata": {
        "id": "zC65kksuitzr"
      }
    },
    {
      "cell_type": "markdown",
      "source": [
        "**Example 1**\n",
        "\n",
        "**Note:**\n",
        "The variable i is not explicitly declared before the for loop. Instead, it is automatically assigned a value from the elements in the fruits list during each iteration of the loop. This is how a for loop works in Python."
      ],
      "metadata": {
        "id": "9-opn9y_zRIO"
      }
    },
    {
      "cell_type": "code",
      "execution_count": null,
      "metadata": {
        "id": "4oMyKJEdd5__"
      },
      "outputs": [],
      "source": [
        "fruits = [\"apple\", \"banana\", \"cherry\"]\n",
        "\n",
        "for i in fruits:\n",
        "  if i==\"apple\":\n",
        "    print(i)"
      ]
    },
    {
      "cell_type": "markdown",
      "source": [
        "**Example 2**\n",
        "\n",
        "Even strings are iterable objects, they contain a sequence of characters:\n",
        "\n",
        "\n"
      ],
      "metadata": {
        "id": "pC8YSis90TYU"
      }
    },
    {
      "cell_type": "code",
      "source": [
        "#Loop through the letters in the word \"banana\"\n",
        "\n",
        "for x in \"banana\":\n",
        "  print(x)"
      ],
      "metadata": {
        "id": "7GvtFg1D0TkM"
      },
      "execution_count": null,
      "outputs": []
    },
    {
      "cell_type": "markdown",
      "source": [
        "**Example 3**\n",
        "\n",
        "With the break statement we can stop the loop before it has looped through all the items:\n",
        "\n"
      ],
      "metadata": {
        "id": "QDwXBwTh0z29"
      }
    },
    {
      "cell_type": "code",
      "source": [
        "#Exit the loop when x is \"banana\":\n",
        "\n",
        "fruits = [\"apple\", \"banana\", \"cherry\"]\n",
        "for x in fruits:\n",
        "  print(x)\n",
        "  if x == \"banana\":\n",
        "    break"
      ],
      "metadata": {
        "id": "bFtI2qA60z-j"
      },
      "execution_count": null,
      "outputs": []
    }
  ]
}