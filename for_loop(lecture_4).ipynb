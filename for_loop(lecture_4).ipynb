{
  "nbformat": 4,
  "nbformat_minor": 0,
  "metadata": {
    "colab": {
      "provenance": [],
      "toc_visible": true,
      "authorship_tag": "ABX9TyPxp6r/WF7GfCrrlfsLOH0Y"
    },
    "kernelspec": {
      "name": "python3",
      "display_name": "Python 3"
    },
    "language_info": {
      "name": "python"
    }
  },
  "cells": [
    {
      "cell_type": "markdown",
      "source": [
        "**For Loop**\n",
        "\n",
        "Meaning: assign each element  of sequence in turn to var and  execute the statements.\n",
        "As usual, all of the statements  in the body must be indented  the same amount.\n",
        "\n",
        "\n",
        "*General Form:*\n",
        "\n",
        "    for var in sequence:\n",
        "             statement(s)"
      ],
      "metadata": {
        "id": "zC65kksuitzr"
      }
    },
    {
      "cell_type": "markdown",
      "source": [
        "**Example 1**\n",
        "\n",
        "**Note:**\n",
        "The variable i is not explicitly declared before the for loop. Instead, it is automatically assigned a value from the elements in the fruits list during each iteration of the loop. This is how a for loop works in Python."
      ],
      "metadata": {
        "id": "9-opn9y_zRIO"
      }
    },
    {
      "cell_type": "code",
      "execution_count": 8,
      "metadata": {
        "id": "4oMyKJEdd5__",
        "colab": {
          "base_uri": "https://localhost:8080/"
        },
        "outputId": "6cac315a-3b8e-48dc-b39d-03223bd8f5bf"
      },
      "outputs": [
        {
          "output_type": "stream",
          "name": "stdout",
          "text": [
            "apple\n"
          ]
        }
      ],
      "source": [
        "fruits = [\"apple\", \"banana\", \"cherry\"]\n",
        "\n",
        "for i in fruits:\n",
        "  if i==\"apple\":\n",
        "    print(i)"
      ]
    },
    {
      "cell_type": "markdown",
      "source": [
        "**Example 2**\n",
        "\n",
        "Even strings are iterable objects, they contain a sequence of characters:\n",
        "\n",
        "\n"
      ],
      "metadata": {
        "id": "pC8YSis90TYU"
      }
    },
    {
      "cell_type": "code",
      "source": [
        "#Loop through the letters in the word \"banana\"\n",
        "\n",
        "for x in \"banana\":\n",
        "  print(x)"
      ],
      "metadata": {
        "id": "7GvtFg1D0TkM",
        "colab": {
          "base_uri": "https://localhost:8080/"
        },
        "outputId": "7b46a716-79ef-43d5-93d0-620641e309e0"
      },
      "execution_count": 7,
      "outputs": [
        {
          "output_type": "stream",
          "name": "stdout",
          "text": [
            "b\n",
            "a\n",
            "n\n",
            "a\n",
            "n\n",
            "a\n"
          ]
        }
      ]
    },
    {
      "cell_type": "markdown",
      "source": [
        "**Example 3**\n",
        "\n",
        "With the break statement we can stop the loop before it has looped through all the items:\n",
        "\n"
      ],
      "metadata": {
        "id": "QDwXBwTh0z29"
      }
    },
    {
      "cell_type": "code",
      "source": [
        "#Exit the loop when x is \"banana\":\n",
        "\n",
        "fruits = [\"apple\", \"banana\", \"cherry\"]\n",
        "for x in fruits:\n",
        "  print(x)\n",
        "  if x == \"banana\":\n",
        "    break"
      ],
      "metadata": {
        "id": "bFtI2qA60z-j",
        "colab": {
          "base_uri": "https://localhost:8080/"
        },
        "outputId": "e7d9847e-204d-456f-8758-373e5c4bf041"
      },
      "execution_count": 5,
      "outputs": [
        {
          "output_type": "stream",
          "name": "stdout",
          "text": [
            "apple\n",
            "banana\n"
          ]
        }
      ]
    },
    {
      "cell_type": "markdown",
      "source": [
        "**Example 4: continue statement**\n",
        "\n",
        "With the continue statement we can stop the current iteration of the loop, and continue with the next:\n"
      ],
      "metadata": {
        "id": "jhD7xh_Iuu1D"
      }
    },
    {
      "cell_type": "code",
      "source": [
        "fruits = [\"apple\", \"banana\", \"cherry\"]\n",
        "for x in fruits:\n",
        "  if x == \"banana\":\n",
        "    continue\n",
        "  print(x)"
      ],
      "metadata": {
        "colab": {
          "base_uri": "https://localhost:8080/"
        },
        "id": "N2X4HfPju4ta",
        "outputId": "71ac58cc-c853-4252-9118-560d652ac7d7"
      },
      "execution_count": null,
      "outputs": [
        {
          "output_type": "stream",
          "name": "stdout",
          "text": [
            "apple\n",
            "cherry\n"
          ]
        }
      ]
    },
    {
      "cell_type": "markdown",
      "source": [
        "**Exercise 1**\n",
        "\n",
        "write a program that displays the numbers 1 through 10 and their respective squares, in a\n",
        "table similar to the following:\n",
        "\n",
        "![image.png](data:image/png;base64,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)"
      ],
      "metadata": {
        "id": "GCzPKW2FCy6-"
      }
    },
    {
      "cell_type": "code",
      "source": [
        "# This program uses a loop to display a\n",
        "# table showing the numbers 1 through 10\n",
        "# and their squares.\n",
        "\n",
        "# Print the table headings.\n",
        "\n",
        "print('Number\\tSquare')        # \\t is an escape sequence used which works like pressing the Tab key\n",
        "print('--------------')\n",
        "\n",
        "# Print the numbers 1 through 10\n",
        "# and their squares.\n",
        "\n",
        "for number in range(1, 11):\n",
        "      square = number**2\n",
        "      print(number, '\\t', square)"
      ],
      "metadata": {
        "colab": {
          "base_uri": "https://localhost:8080/"
        },
        "id": "xlpT8xfuDPHE",
        "outputId": "70825026-18e5-471c-9e81-a18472bbeb3c"
      },
      "execution_count": 12,
      "outputs": [
        {
          "output_type": "stream",
          "name": "stdout",
          "text": [
            "Number\tSquare\n",
            "--------------\n",
            "1 \t 1\n",
            "2 \t 4\n",
            "3 \t 9\n",
            "4 \t 16\n",
            "5 \t 25\n",
            "6 \t 36\n",
            "7 \t 49\n",
            "8 \t 64\n",
            "9 \t 81\n",
            "10 \t 100\n"
          ]
        }
      ]
    },
    {
      "cell_type": "markdown",
      "source": [
        "**Exercise 2**\n",
        "\n",
        "write a program that displays the numbers in range 25 through 100 which have integer square root values  and their respective square roots, in a\n",
        "table similar to the following:\n",
        "\n",
        "![image.png](data:image/png;base64,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)\n"
      ],
      "metadata": {
        "id": "13oE_eCCFwem"
      }
    },
    {
      "cell_type": "code",
      "source": [
        "# Calculating square root using for loop.\n",
        "\n",
        "# Print the table headings.\n",
        "print('Number\\tSquare Root')\n",
        "print('------------------------')\n",
        "\n",
        "# Print the numbers 1 through 10 and their square roots.\n",
        "for number in range(25, 101):\n",
        "    square_root = number ** 0.5  # Calculate the square root\n",
        "    if square_root.is_integer():  # Check if the square root is an integer\n",
        "         print(number, '\\t',square_root)\n"
      ],
      "metadata": {
        "colab": {
          "base_uri": "https://localhost:8080/"
        },
        "id": "U-ZRf0LdGHJ8",
        "outputId": "8a454b93-2c6a-410f-9a0e-d73c014f61b6"
      },
      "execution_count": 30,
      "outputs": [
        {
          "output_type": "stream",
          "name": "stdout",
          "text": [
            "Number\tSquare Root\n",
            "------------------------\n",
            "25 \t 5.0\n",
            "36 \t 6.0\n",
            "49 \t 7.0\n",
            "64 \t 8.0\n",
            "81 \t 9.0\n",
            "100 \t 10.0\n"
          ]
        }
      ]
    }
  ]
}