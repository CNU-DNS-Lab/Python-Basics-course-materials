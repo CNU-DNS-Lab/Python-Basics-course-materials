{
  "nbformat": 4,
  "nbformat_minor": 0,
  "metadata": {
    "colab": {
      "provenance": [],
      "authorship_tag": "ABX9TyNITH/r1d6GsTtcAcOR/mS8"
    },
    "kernelspec": {
      "name": "python3",
      "display_name": "Python 3"
    },
    "language_info": {
      "name": "python"
    }
  },
  "cells": [
    {
      "cell_type": "markdown",
      "source": [
        "Exercise: Create a rock-paper-scissors game\n",
        "\n",
        "1) use random module for the computer to have random choices\n",
        "\n",
        "2) Create a while loop to start and quit the game\n",
        "\n",
        "3) Write if-elif-else statements for game rules\n",
        "\n",
        "4) Again ask the user if he wants to continue the game until he says quit."
      ],
      "metadata": {
        "id": "XJytJumsYwQx"
      }
    },
    {
      "cell_type": "code",
      "execution_count": 4,
      "metadata": {
        "colab": {
          "base_uri": "https://localhost:8080/"
        },
        "id": "hE52i7BDSRFt",
        "outputId": "f4ea4895-1aa7-4f0f-ddd7-323841bf8ca9"
      },
      "outputs": [
        {
          "name": "stdout",
          "output_type": "stream",
          "text": [
            "Rock crushes scissors. Scissors cut paper. Paper covers rock.\n",
            "Do you want to be rock, paper, or scissors (or quit)? rock\n",
            "You chose rock, and the computer chose paper.\n",
            "Computer wins!\n",
            "\n",
            "Do you want to be rock, paper, or scissors (or quit)? rock\n",
            "You chose rock, and the computer chose paper.\n",
            "Computer wins!\n",
            "\n",
            "Do you want to be rock, paper, or scissors (or quit)? scissors\n",
            "You chose scissors, and the computer chose paper.\n",
            "You win!\n",
            "\n",
            "Do you want to be rock, paper, or scissors (or quit)? paper\n",
            "You chose paper, and the computer chose scissors.\n",
            "Computer wins!\n",
            "\n",
            "Do you want to be rock, paper, or scissors (or quit)? scissors\n",
            "You chose scissors, and the computer chose scissors.\n",
            "It's a tie!\n",
            "\n",
            "Do you want to be rock, paper, or scissors (or quit)? quit\n"
          ]
        }
      ],
      "source": [
        "import random\n",
        "\n",
        "choices = [\"rock\", \"paper\", \"scissors\"]\n",
        "print(\"Rock crushes scissors. Scissors cut paper. Paper covers rock.\")\n",
        "\n",
        "player = input(\"Do you want to be rock, paper, or scissors (or quit)? \")\n",
        "\n",
        "while player != \"quit\": # Keep playing until the user quits\n",
        "  player = player.lower()\n",
        "  computer = random.choice(choices) # Pick one of the items in choices\n",
        "  print(\"You chose \" +player+ \", and the computer chose \" +computer+ \".\")\n",
        "\n",
        "  if player == computer:\n",
        "    print(\"It's a tie!\")\n",
        "  elif player == \"rock\":\n",
        "    if computer == \"scissors\":\n",
        "        print(\"You win!\")\n",
        "    else:\n",
        "        print(\"Computer wins!\")\n",
        "\n",
        "  elif player == \"paper\":\n",
        "    if computer == \"rock\":\n",
        "        print(\"You win!\")\n",
        "    else:\n",
        "         print(\"Computer wins!\")\n",
        "  elif player == \"scissors\":\n",
        "    if computer == \"paper\":\n",
        "         print(\"You win!\")\n",
        "    else:\n",
        "         print(\"Computer wins!\")\n",
        "  else:\n",
        "        print(\"I think there was some sort of error...\")\n",
        "\n",
        "  print() # Skip a line\n",
        "\n",
        "  player = input(\"Do you want to be rock, paper, or scissors (or quit)? \")\n"
      ]
    }
  ]
}