{
  "nbformat": 4,
  "nbformat_minor": 0,
  "metadata": {
    "colab": {
      "provenance": [],
      "authorship_tag": "ABX9TyP58jmoASPwK6iWk4anSWx0"
    },
    "kernelspec": {
      "name": "python3",
      "display_name": "Python 3"
    },
    "language_info": {
      "name": "python"
    }
  },
  "cells": [
    {
      "cell_type": "markdown",
      "source": [
        "**Lists**"
      ],
      "metadata": {
        "id": "3_U-INO2RIdZ"
      }
    },
    {
      "cell_type": "markdown",
      "source": [
        "**Creating a list**\n",
        "\n",
        "Lists in Python can be created by just placing the sequence inside the square brackets[ ]."
      ],
      "metadata": {
        "id": "jjGLiKK_h1Iy"
      }
    },
    {
      "cell_type": "code",
      "source": [
        "#blank list\n",
        "List = []\n",
        "print(\"Blank List: \")\n",
        "print(List)"
      ],
      "metadata": {
        "colab": {
          "base_uri": "https://localhost:8080/"
        },
        "id": "2bphZVSph48J",
        "outputId": "ff39e392-d283-4625-b7b2-629427cfbb4e"
      },
      "execution_count": null,
      "outputs": [
        {
          "output_type": "stream",
          "name": "stdout",
          "text": [
            "Blank List: \n",
            "[]\n"
          ]
        }
      ]
    },
    {
      "cell_type": "markdown",
      "source": [
        "**Example 1:** simply understanding the concept"
      ],
      "metadata": {
        "id": "VIzc7zy8RM-X"
      }
    },
    {
      "cell_type": "code",
      "execution_count": null,
      "metadata": {
        "colab": {
          "base_uri": "https://localhost:8080/"
        },
        "id": "T2BbMa60RHz-",
        "outputId": "3b196d38-b3df-4dae-b26d-6d5176f54f10"
      },
      "outputs": [
        {
          "output_type": "stream",
          "name": "stdout",
          "text": [
            "[0, 1, 2, 3, 4]\n"
          ]
        }
      ],
      "source": [
        "#Simply writing a list of integer elements\n",
        "# The items that are enclosed in brackets and separated by commas are the list elements.\n",
        "# After this statement executes, the variable numbers will reference the list\n",
        "\n",
        "numbers = [0, 1, 2, 3, 4]\n",
        "print(numbers)"
      ]
    },
    {
      "cell_type": "markdown",
      "source": [
        "**Example 2:**"
      ],
      "metadata": {
        "id": "-NQjzfAwVN43"
      }
    },
    {
      "cell_type": "code",
      "source": [
        "numbers_list1 = list(range(5))\n",
        "print('first list is',numbers_list1)\n",
        "\n",
        "numbers_list2 = list(range(1,10,2))\n",
        "print('second list is',numbers_list2)\n",
        "\n",
        "pets = ['I', 'have', 4 , 'cats', '&', 5, 'dogs!' ]\n",
        "print(pets)"
      ],
      "metadata": {
        "colab": {
          "base_uri": "https://localhost:8080/"
        },
        "id": "pBqkHwvVVNYI",
        "outputId": "fd983fd1-f337-460c-d164-e13558f50e64"
      },
      "execution_count": null,
      "outputs": [
        {
          "output_type": "stream",
          "name": "stdout",
          "text": [
            "first list is [0, 1, 2, 3, 4]\n",
            "second list is [1, 3, 5, 7, 9]\n",
            "['I', 'have', 4, 'cats', '&', 5, 'dogs!']\n"
          ]
        }
      ]
    },
    {
      "cell_type": "markdown",
      "source": [
        "**Example 3.1: Repetition Operator**\n",
        "\n",
        " list * n\n",
        "   #In the general format here list is a list and n is number of copies to make\n"
      ],
      "metadata": {
        "id": "SU2QN85gczVZ"
      }
    },
    {
      "cell_type": "code",
      "source": [
        "cat_sound = ['meow!'] * 5\n",
        "print(cat_sound)"
      ],
      "metadata": {
        "colab": {
          "base_uri": "https://localhost:8080/"
        },
        "id": "k1oduwAPZCwh",
        "outputId": "31ed38ce-0698-49be-d348-fb2ebbd41317"
      },
      "execution_count": null,
      "outputs": [
        {
          "output_type": "stream",
          "name": "stdout",
          "text": [
            "['meow!', 'meow!', 'meow!', 'meow!', 'meow!']\n"
          ]
        }
      ]
    },
    {
      "cell_type": "markdown",
      "source": [
        "**Example 3.2:** Repetition of a list"
      ],
      "metadata": {
        "id": "sbjmJt0WeVqB"
      }
    },
    {
      "cell_type": "code",
      "source": [
        "numbers = [1, 2, 3] * 3\n",
        "print(numbers)"
      ],
      "metadata": {
        "colab": {
          "base_uri": "https://localhost:8080/"
        },
        "id": "99M7wzfFejqY",
        "outputId": "14181612-82aa-4f8a-9bb0-75b0aa71f915"
      },
      "execution_count": null,
      "outputs": [
        {
          "output_type": "stream",
          "name": "stdout",
          "text": [
            "[1, 2, 3, 1, 2, 3, 1, 2, 3]\n"
          ]
        }
      ]
    },
    {
      "cell_type": "markdown",
      "source": [
        "**Example 4: Using for loop to iterate over a list**"
      ],
      "metadata": {
        "id": "hQDocDcdhA2C"
      }
    },
    {
      "cell_type": "code",
      "source": [
        "numbers = [99, 100, 101, 102]\n",
        "for n in numbers:\n",
        "   print(n)"
      ],
      "metadata": {
        "colab": {
          "base_uri": "https://localhost:8080/"
        },
        "id": "31NuLDtHhA9g",
        "outputId": "18e6b3c0-596f-469c-d9e2-fa4fbc927831"
      },
      "execution_count": null,
      "outputs": [
        {
          "output_type": "stream",
          "name": "stdout",
          "text": [
            "99\n",
            "100\n",
            "101\n",
            "102\n"
          ]
        }
      ]
    },
    {
      "cell_type": "markdown",
      "source": [
        "**Example 5: accessing elements from a list**"
      ],
      "metadata": {
        "id": "eXaTRk_cvp4j"
      }
    },
    {
      "cell_type": "code",
      "source": [
        "# Python program to demonstrate\n",
        "# accessing of element from list\n",
        "\n",
        "# Creating a List with\n",
        "# the use of multiple values\n",
        "List = [\"Let's\", \"learn\", \"Python!\"]\n",
        "\n",
        "# accessing a element from the\n",
        "# list using index number\n",
        "print(\"Accessing a element from the list:\")\n",
        "print(List[0])\n",
        "print(List[2])"
      ],
      "metadata": {
        "colab": {
          "base_uri": "https://localhost:8080/"
        },
        "id": "UkaeaEjtvqJJ",
        "outputId": "3db79f46-f256-4d6b-88f1-5e483e33ca97"
      },
      "execution_count": null,
      "outputs": [
        {
          "output_type": "stream",
          "name": "stdout",
          "text": [
            "Accessing a element from the list:\n",
            "Let's\n",
            "Python!\n"
          ]
        }
      ]
    },
    {
      "cell_type": "markdown",
      "source": [
        "**Example 6: Understanding Index of list**\n",
        "\n",
        "Each element in a list has an index that specifies its position in the list."
      ],
      "metadata": {
        "id": "Om8MDzMayNlh"
      }
    },
    {
      "cell_type": "code",
      "source": [
        "my_list = [10, 20, 30, 40]\n",
        "index = 0\n",
        "print(my_list[0], my_list[1], my_list[2], my_list[3])\n",
        "\n",
        "\n",
        "#while index < 4:\n",
        "#   print(my_list[index])\n",
        "#   index += 1"
      ],
      "metadata": {
        "colab": {
          "base_uri": "https://localhost:8080/"
        },
        "id": "HObtSVWRyNv5",
        "outputId": "65779dda-d8d7-4f70-fb54-6a921571d308"
      },
      "execution_count": null,
      "outputs": [
        {
          "output_type": "stream",
          "name": "stdout",
          "text": [
            "10 20 30 40\n"
          ]
        }
      ]
    },
    {
      "cell_type": "markdown",
      "source": [
        "**Example 7: len() Function**"
      ],
      "metadata": {
        "id": "SSqgLowX1OEa"
      }
    },
    {
      "cell_type": "code",
      "source": [
        "my_list = [10, 20, 30, 40]\n",
        "size = len(my_list)\n",
        "print(size)"
      ],
      "metadata": {
        "colab": {
          "base_uri": "https://localhost:8080/"
        },
        "id": "wkKCc8Lt1UJM",
        "outputId": "26920f78-87b7-4a32-cdd7-8928d7e1e6a3"
      },
      "execution_count": null,
      "outputs": [
        {
          "output_type": "stream",
          "name": "stdout",
          "text": [
            "4\n"
          ]
        }
      ]
    }
  ]
}