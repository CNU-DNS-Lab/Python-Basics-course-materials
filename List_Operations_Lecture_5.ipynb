{
  "nbformat": 4,
  "nbformat_minor": 0,
  "metadata": {
    "colab": {
      "provenance": [],
      "toc_visible": true,
      "authorship_tag": "ABX9TyNRUHMqjGZbnpdM+oOZBSgG"
    },
    "kernelspec": {
      "name": "python3",
      "display_name": "Python 3"
    },
    "language_info": {
      "name": "python"
    }
  },
  "cells": [
    {
      "cell_type": "markdown",
      "source": [
        "**List Mutability**\n",
        "\n",
        "Python mutable lists may involve various data types such as objects, integers and strings."
      ],
      "metadata": {
        "id": "tYz9Kgt8CoFt"
      }
    },
    {
      "cell_type": "code",
      "source": [
        "numbers = [1, 2, 3, 4, 5]\n",
        "print(numbers)\n",
        "#\n",
        "numbers[0] = 99         #changing the value of index 0\n",
        "numbers[2] = 'python'   #changing the value of index 2\n",
        "numbers[4] = -46        #changing the value of index 4\n",
        "\n",
        "print(numbers)"
      ],
      "metadata": {
        "colab": {
          "base_uri": "https://localhost:8080/"
        },
        "id": "jqVppWP0CzbA",
        "outputId": "de953243-451f-48a8-bf59-ac9cb397f860"
      },
      "execution_count": 8,
      "outputs": [
        {
          "output_type": "stream",
          "name": "stdout",
          "text": [
            "[1, 2, 3, 4, 5]\n",
            "[99, 2, 'python', 4, -46]\n"
          ]
        }
      ]
    },
    {
      "cell_type": "markdown",
      "source": [
        "**Taking a string input and converting it into a list of elements**\n",
        "\n",
        "Note: use split() function"
      ],
      "metadata": {
        "id": "1RCahRu3zwtY"
      }
    },
    {
      "cell_type": "code",
      "execution_count": 15,
      "metadata": {
        "colab": {
          "base_uri": "https://localhost:8080/"
        },
        "id": "QIMG1mf-zsGP",
        "outputId": "181c38d1-db8f-4558-8876-9b37a7f9378a"
      },
      "outputs": [
        {
          "output_type": "stream",
          "name": "stdout",
          "text": [
            "Enter elements (space-separated)): Have a nice day!\n",
            "The list is: ['Have', 'a', 'nice', 'day!']\n"
          ]
        }
      ],
      "source": [
        "# Python program to take space\n",
        "# separated input as a string\n",
        "# split and store it to a list\n",
        "# and print the string list\n",
        "\n",
        "# input the list as string\n",
        "string = input(\"Enter elements (space-separated)): \")\n",
        "\n",
        "# split the strings and store it to a list\n",
        "lst = string.split()\n",
        "print('The list is:', lst)   # printing the list"
      ]
    },
    {
      "cell_type": "markdown",
      "source": [
        "**Concatenating Lists 1**\n",
        "\n",
        "To concatenate means to join two things together. You can use the + operator to concatenate two lists."
      ],
      "metadata": {
        "id": "duq78owbJtj9"
      }
    },
    {
      "cell_type": "code",
      "source": [
        "list1 = [1, 2, 3, 4]\n",
        "list2 = [5, 6, 7, 8]\n",
        "list3 = list1 + list2\n",
        "\n",
        "print(list3)"
      ],
      "metadata": {
        "colab": {
          "base_uri": "https://localhost:8080/"
        },
        "id": "oeFsmuMiCokV",
        "outputId": "13fe4469-31c8-401a-98b5-820a31eb7613"
      },
      "execution_count": 17,
      "outputs": [
        {
          "output_type": "stream",
          "name": "stdout",
          "text": [
            "[1, 2, 3, 4, 5, 6, 7, 8]\n"
          ]
        }
      ]
    },
    {
      "cell_type": "markdown",
      "source": [
        "**Concatenating Lists 2**\n"
      ],
      "metadata": {
        "id": "-_8eyuMMQgmG"
      }
    },
    {
      "cell_type": "code",
      "source": [
        "favorite_fruits = [\"Apple\", \"Banana\", \"Cherry\"]\n",
        "favorite_vegetables = [\"Carrot\", \"Broccoli\", \"Cucumber\"]\n",
        "\n",
        "# Now let's concatenate them\n",
        "favorite_foods = favorite_fruits + favorite_vegetables\n",
        "\n",
        "print(\"Favorite Fruits:\", favorite_fruits)\n",
        "print(\"Favorite Vegetables:\", favorite_vegetables)\n",
        "print(\"Favorite Foods:\", favorite_foods)"
      ],
      "metadata": {
        "colab": {
          "base_uri": "https://localhost:8080/"
        },
        "id": "xOL71av7ztEK",
        "outputId": "11320bf1-8778-41c6-9776-40593e13d9e6"
      },
      "execution_count": 18,
      "outputs": [
        {
          "output_type": "stream",
          "name": "stdout",
          "text": [
            "Favorite Fruits: ['Apple', 'Banana', 'Cherry']\n",
            "Favorite Vegetables: ['Carrot', 'Broccoli', 'Cucumber']\n",
            "Favorite Foods: ['Apple', 'Banana', 'Cherry', 'Carrot', 'Broccoli', 'Cucumber']\n"
          ]
        }
      ]
    },
    {
      "cell_type": "markdown",
      "source": [
        "**Tuples**\n",
        "\n",
        "1. Tuples are used to store multiple items in a single variable.\n",
        "\n",
        "2. A tuple is a collection which is ordered and unchangeable.\n",
        "\n",
        "3. Tuples are written with round brackets."
      ],
      "metadata": {
        "id": "s3X0KMGr4iH_"
      }
    },
    {
      "cell_type": "code",
      "source": [
        "# practicing creating tuples\n",
        "thistuple = (\"apple\", \"banana\", \"cherry\")\n",
        "print(thistuple)\n",
        "print(len(thistuple))   # Print the number of items in the tuple"
      ],
      "metadata": {
        "colab": {
          "base_uri": "https://localhost:8080/"
        },
        "id": "uoyX0K4XSj6W",
        "outputId": "a11e7e50-e0e2-4f0c-a872-ff9b89a59485"
      },
      "execution_count": 7,
      "outputs": [
        {
          "output_type": "stream",
          "name": "stdout",
          "text": [
            "('apple', 'banana', 'cherry')\n",
            "3\n"
          ]
        }
      ]
    },
    {
      "cell_type": "markdown",
      "source": [
        "**Tuple with only one item**\n",
        "\n",
        "To create a tuple with only one item, you have to add a comma after the item, otherwise Python will not recognize it as a tuple."
      ],
      "metadata": {
        "id": "Nue8ilnY-LWm"
      }
    },
    {
      "cell_type": "code",
      "source": [
        "thistuple1 = (\"apple\",)\n",
        "print(type(thistuple1))\n",
        "\n",
        "#NOT a tuple\n",
        "thistuple2 = (\"apple\")\n",
        "print(type(thistuple2))"
      ],
      "metadata": {
        "colab": {
          "base_uri": "https://localhost:8080/"
        },
        "id": "wmtaOmk5-UuO",
        "outputId": "7be1db86-417e-4431-961d-85f907c140c1"
      },
      "execution_count": 6,
      "outputs": [
        {
          "output_type": "stream",
          "name": "stdout",
          "text": [
            "<class 'tuple'>\n",
            "<class 'str'>\n"
          ]
        }
      ]
    },
    {
      "cell_type": "markdown",
      "source": [
        "**Tuples can store various data types**"
      ],
      "metadata": {
        "id": "pjq0u3o1_u4O"
      }
    },
    {
      "cell_type": "code",
      "source": [
        "tuple1 = (\"abc\", 34, True, 40, \"male\")\n",
        "print(tuple1)"
      ],
      "metadata": {
        "colab": {
          "base_uri": "https://localhost:8080/"
        },
        "id": "n8abJ_Jj_vAW",
        "outputId": "5764ff7a-5787-48be-8124-851409440bea"
      },
      "execution_count": 9,
      "outputs": [
        {
          "output_type": "stream",
          "name": "stdout",
          "text": [
            "('abc', 34, True, 40, 'male')\n"
          ]
        }
      ]
    }
  ]
}