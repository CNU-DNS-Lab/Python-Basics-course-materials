{
  "nbformat": 4,
  "nbformat_minor": 0,
  "metadata": {
    "colab": {
      "provenance": [],
      "toc_visible": true,
      "authorship_tag": "ABX9TyMnYXDPKnc3IsTRFEMHcyi+"
    },
    "kernelspec": {
      "name": "python3",
      "display_name": "Python 3"
    },
    "language_info": {
      "name": "python"
    }
  },
  "cells": [
    {
      "cell_type": "markdown",
      "source": [
        "General format:\n",
        "\n",
        "    import math\n",
        "\n",
        "Explanation: This statement causes the Python interpreter to load the contents of the math module into memory, making the functions and/or classes that are stored in the math module available"
      ],
      "metadata": {
        "id": "kYcorH3MuL-a"
      }
    },
    {
      "cell_type": "markdown",
      "source": [
        "**Example 1: Importing math module**"
      ],
      "metadata": {
        "id": "k0T7H51tuao6"
      }
    },
    {
      "cell_type": "code",
      "execution_count": 1,
      "metadata": {
        "colab": {
          "base_uri": "https://localhost:8080/"
        },
        "id": "bdbWyr38uB8k",
        "outputId": "289cb06a-3d56-4547-ad96-fd6e12395976"
      },
      "outputs": [
        {
          "output_type": "stream",
          "name": "stdout",
          "text": [
            "5.0\n"
          ]
        }
      ],
      "source": [
        "import math\n",
        "\n",
        "x = math.sqrt(25)\n",
        "print(x)"
      ]
    },
    {
      "cell_type": "markdown",
      "source": [
        "**Example 2: Importing a specific function**\n",
        "\n",
        "Benefits: cleaner code, namspeace clarity, readable, slightly reducing space usage"
      ],
      "metadata": {
        "id": "PpbH3QJJuqop"
      }
    },
    {
      "cell_type": "code",
      "source": [
        "from math import sqrt\n",
        "\n",
        "x = sqrt(25)\n",
        "print(x)"
      ],
      "metadata": {
        "colab": {
          "base_uri": "https://localhost:8080/"
        },
        "id": "CgWLEUWXuJTQ",
        "outputId": "84f94dc6-06c9-4d6e-9d71-c9fbf77eed7f"
      },
      "execution_count": 2,
      "outputs": [
        {
          "output_type": "stream",
          "name": "stdout",
          "text": [
            "5.0\n"
          ]
        }
      ]
    },
    {
      "cell_type": "markdown",
      "source": [
        "**Example 3: Using an Alias**\n",
        "\n",
        " You can use the as keyword to assign an alias to a module when you import it.\n",
        "\n",
        "Example:\n",
        "\n",
        "    import math as mt"
      ],
      "metadata": {
        "id": "O2l16ekDv0ix"
      }
    },
    {
      "cell_type": "code",
      "source": [
        "import math as mt\n",
        "x = mt.sqrt(25)\n",
        "a = mt.sqrt(1024)\n",
        "print(\"square root of 25: \\n\", x)\n",
        "print(\"square root of 1024: \\n\", a)"
      ],
      "metadata": {
        "colab": {
          "base_uri": "https://localhost:8080/"
        },
        "id": "YcykJqq6v0uJ",
        "outputId": "07002f21-bd99-4628-fbb1-d310bb26bdaf"
      },
      "execution_count": 8,
      "outputs": [
        {
          "output_type": "stream",
          "name": "stdout",
          "text": [
            "square root of 25: \n",
            " 5.0\n",
            "square root of 1024: \n",
            " 32.0\n"
          ]
        }
      ]
    },
    {
      "cell_type": "markdown",
      "source": [
        "**Example 4: using 'random'**\n",
        "\n",
        "In this example, the built-in ‘random’ module is imported in Python using the import statement. The randint function from the ‘random’ module is then utilized to generate a random integer between 1 and 10, and the result is printed."
      ],
      "metadata": {
        "id": "VQtHBheWyIEa"
      }
    },
    {
      "cell_type": "code",
      "source": [
        "import random\n",
        "\n",
        "# Generate a random number between 1 and 10\n",
        "random_number = random.randint(1, 10)\n",
        "print(\"Random Number:\", random_number)"
      ],
      "metadata": {
        "colab": {
          "base_uri": "https://localhost:8080/"
        },
        "id": "Kq1mNVA3yILx",
        "outputId": "150d426a-7b1e-456a-d0e5-d0c07de7a2b0"
      },
      "execution_count": 10,
      "outputs": [
        {
          "output_type": "stream",
          "name": "stdout",
          "text": [
            "Random Number: 2\n"
          ]
        }
      ]
    },
    {
      "cell_type": "markdown",
      "source": [
        "**Example 5: Importing * in Python**\n",
        "\n",
        "Usage: All the functions can be imported using *."
      ],
      "metadata": {
        "id": "QtkR9OMwy96K"
      }
    },
    {
      "cell_type": "code",
      "source": [
        "from math import *\n",
        "\n",
        "print(pi)\n",
        "print(factorial(6))  # formula : 6! = 6x5x4x3x2x1\n",
        "print(math.pow(4,3)) #  4 to the power of 3"
      ],
      "metadata": {
        "colab": {
          "base_uri": "https://localhost:8080/"
        },
        "id": "yp8zdH6ey-Bi",
        "outputId": "3f8d49f1-8871-4f1c-cdf6-18b0d64afbb6"
      },
      "execution_count": 15,
      "outputs": [
        {
          "output_type": "stream",
          "name": "stdout",
          "text": [
            "3.141592653589793\n",
            "720\n",
            "64.0\n"
          ]
        }
      ]
    }
  ]
}