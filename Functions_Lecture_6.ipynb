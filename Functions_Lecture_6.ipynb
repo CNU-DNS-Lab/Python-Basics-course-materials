{
  "nbformat": 4,
  "nbformat_minor": 0,
  "metadata": {
    "colab": {
      "provenance": [],
      "authorship_tag": "ABX9TyOEIVAjewOmsqfbH3rLSA+K"
    },
    "kernelspec": {
      "name": "python3",
      "display_name": "Python 3"
    },
    "language_info": {
      "name": "python"
    }
  },
  "cells": [
    {
      "cell_type": "markdown",
      "source": [
        "*CONCEPT:* A **function** **is a** **group of statements** that exist within a program for the purpose of performing a specific task.\n",
        "\n",
        "Most programs perform tasks that are large enough to be broken down into several subtasks.\n",
        "\n",
        "**We can break down a program into small manageable pieces known as functions.**\n",
        "![image.png](data:image/png;base64,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)\n",
        "\n",
        "\n",
        "Example:\n",
        "Functions needed for making breakfast:\n",
        "        \n",
        "         1) Function for instructions to make a smoothie .\n",
        "         2) Function for instructions to make a sandwich.\n",
        "         3) Function for user input, whether he wants recipe for a smoothie or a sandwich.\n"
      ],
      "metadata": {
        "id": "X6zJi0IelNH8"
      }
    },
    {
      "cell_type": "code",
      "execution_count": 7,
      "metadata": {
        "colab": {
          "base_uri": "https://localhost:8080/"
        },
        "id": "N_K-oULHjSaG",
        "outputId": "8baf434b-71a8-45c8-f815-07979a86c18c"
      },
      "outputs": [
        {
          "output_type": "stream",
          "name": "stdout",
          "text": [
            "Welcome to the Python Kitchen! Would you like a 'smoothie' or a 'sandwich'? sandwich\n",
            "What would you like in your sandwich? potato patty\n",
            "Taking two slices of bread.\n",
            "Adding some tasty potato patty.\n",
            "Putting a slice of cheese.\n",
            "Adding a leaf of lettuce and a slice of tomato.\n",
            "Spreading some mayo and mustard on the other bread slice.\n",
            "Combining the two slices together.\n",
            "Your delicious potato patty sandwich is ready to eat!\n"
          ]
        }
      ],
      "source": [
        "# program for helping John to make breakfast - A smoothie and a sandwich.\n",
        "# Note 1: f-string (formatted string: f\"\") is used to easily embed expressions inside string literals.\n",
        "# Note 2: lower() method converts all uppercase letters to lower.\n",
        "'''\n",
        "functions make_smoothie() and make_sandwich() provide recipe while,\n",
        "kitchen() function asks for user input and then calls make_Smoothie() or make_sandwich() function\n",
        "according to the user's choice.\n",
        "'''\n",
        "def make_smoothie():\n",
        "    fruit = input(\"What fruit would you like in your smoothie? \")\n",
        "    print(\"Taking a blender.\")\n",
        "    print(f\"Adding some delicious {fruit}.\")\n",
        "    print(\"Pouring in a cup of almond milk.\")\n",
        "    print(\"Adding a spoon of honey for sweetness.\")\n",
        "    print(\"Blending all together.\")\n",
        "    print(\"Pouring the smoothie into a glass.\")\n",
        "    print(\"Sprinkling some chia seeds on top.\")\n",
        "    print(\"Your refreshing \" + fruit + \" smoothie is ready!\")\n",
        "\n",
        "def make_sandwich():\n",
        "    filling = input(\"What would you like in your sandwich? \")\n",
        "    print(\"Taking two slices of bread.\")\n",
        "    print(f\"Adding some tasty {filling}.\")\n",
        "    print(\"Putting a slice of cheese.\")\n",
        "    print(\"Adding a leaf of lettuce and a slice of tomato.\")\n",
        "    print(\"Spreading some mayo and mustard on the other bread slice.\")\n",
        "    print(\"Combining the two slices together.\")\n",
        "    print(f\"Your delicious {filling} sandwich is ready to eat!\")\n",
        "\n",
        "def kitchen():\n",
        "    choice = input(\"Welcome to the Python Kitchen! Would you like a 'smoothie' or a 'sandwich'? \")\n",
        "    if choice.lower() == 'smoothie':\n",
        "        make_smoothie()\n",
        "    elif choice.lower() == 'sandwich':\n",
        "        make_sandwich()\n",
        "    else:\n",
        "        print(\"Sorry, we only have recipes for smoothies and sandwiches today.\")\n",
        "\n",
        "# Call the kitchen function to start the program\n",
        "kitchen()\n"
      ]
    }
  ]
}